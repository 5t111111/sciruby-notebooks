{
 "cells": [
  {
   "cell_type": "markdown",
   "metadata": {},
   "source": [
    "# Reliability ICC analysis with statsample"
   ]
  },
  {
   "cell_type": "code",
   "execution_count": 2,
   "metadata": {
    "collapsed": false
   },
   "outputs": [
    {
     "name": "stdout",
     "output_type": "stream",
     "text": [
      "Analysis 2015-06-03 18:13:36 +0530\n",
      "= Statsample::Reliability::ICC\n",
      "  == Intra-class correlation\n",
      "    McGraw & Wong ICC(A,K)\n",
      "    ICC: 0.9695\n",
      "    F Test : F(999.00, 578.23) = 34.9504 , p = 0.0000\n",
      "    CI (95.00): [0.9646 - 0.9735]\n",
      "  == Intra-class correlation\n",
      "    McGraw & Wong ICC(A,K)\n",
      "    ICC: 0.9695\n",
      "    F Test : F(999.00, 578.23) = 34.9504 , p = 0.0000\n",
      "    CI (95.00): [0.9646 - 0.9735]\n",
      "  == Intra-class correlation\n",
      "    McGraw & Wong ICC(A,K)\n",
      "    ICC: 0.9695\n",
      "    F Test : F(999.00, 578.23) = 34.9504 , p = 0.0000\n",
      "    CI (95.00): [0.9646 - 0.9735]\n",
      "\n"
     ]
    }
   ],
   "source": [
    "require 'statsample'\n",
    "\n",
    "Statsample::Analysis.store(Statsample::Reliability::ICC) do\n",
    "  Daru.lazy_update = true\n",
    "  size=1000\n",
    "  a = Daru::Vector.new_with_size(size) {rand(10)}\n",
    "  \n",
    "  # The `recode` method acts similarly to `map`, the difference\n",
    "  # being that `recode` returns a Daru::Vector using the value\n",
    "  # returned by each run of the block\n",
    "  b = a.recode{|i|i+rand(4)-2}\n",
    "  c = a.recode{|i|i+rand(4)-2}\n",
    "  d = a.recode{|i|i+rand(4)-2}\n",
    "  @ds = Daru::DataFrame.new({:a => a,:b => b,:c => c,:d => d})\n",
    "  @icc=Statsample::Reliability::ICC.new(@ds)\n",
    "  summary(@icc)\n",
    "  @icc.type=:icc_3_1\n",
    "  summary(@icc)\n",
    "  @icc.type=:icc_a_k\n",
    "  summary(@icc)\n",
    "  \n",
    "  Daru.lazy_update = false\n",
    "end\n",
    "\n",
    "Statsample::Analysis.run_batch"
   ]
  }
 ],
 "metadata": {
  "kernelspec": {
   "display_name": "Ruby 2.2.1",
   "language": "ruby",
   "name": "ruby"
  },
  "language_info": {
   "file_extension": "rb",
   "mimetype": "application/x-ruby",
   "name": "ruby",
   "version": "2.2.1"
  }
 },
 "nbformat": 4,
 "nbformat_minor": 0
}
