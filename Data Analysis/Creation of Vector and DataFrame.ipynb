{
 "cells": [
  {
   "cell_type": "markdown",
   "metadata": {},
   "source": [
    "# Demostrate basic creation of Vector and DataFrame"
   ]
  },
  {
   "cell_type": "code",
   "execution_count": 2,
   "metadata": {
    "collapsed": false
   },
   "outputs": [
    {
     "data": {
      "text/html": [
       "<table><tr><th></th><th>b</th><th>a</th></tr><tr><td>0</td><td>2</td><td>3</td></tr><tr><td>1</td><td>2</td><td>1</td></tr><tr><td>2</td><td>1</td><td></td></tr><tr><td>3</td><td>0</td><td>0</td></tr><tr><td>4</td><td>3</td><td>2</td></tr><tr><td>5</td><td>1</td><td>1</td></tr><tr><td>6</td><td></td><td>3</td></tr><tr><td>7</td><td>2</td><td></td></tr><tr><td>8</td><td>1</td><td>1</td></tr><tr><td>9</td><td>1</td><td></td></tr><tr><td>10</td><td>0</td><td>1</td></tr><tr><td>11</td><td>1</td><td>2</td></tr><tr><td>12</td><td>1</td><td>1</td></tr><tr><td>13</td><td>2</td><td>3</td></tr><tr><td>14</td><td>3</td><td></td></tr><tr><td>15</td><td>0</td><td>2</td></tr><tr><td>16</td><td>0</td><td>2</td></tr><tr><td>17</td><td>3</td><td>0</td></tr><tr><td>18</td><td>1</td><td>0</td></tr><tr><td>19</td><td>1</td><td>0</td></tr><tr><td>20</td><td>0</td><td></td></tr><tr><td>21</td><td></td><td>2</td></tr><tr><td>22</td><td>1</td><td>1</td></tr><tr><td>23</td><td>3</td><td>1</td></tr><tr><td>24</td><td>3</td><td>1</td></tr><tr><td>25</td><td>1</td><td>3</td></tr><tr><td>26</td><td>0</td><td>3</td></tr><tr><td>27</td><td>2</td><td></td></tr><tr><td>28</td><td>0</td><td>1</td></tr><tr><td>29</td><td>2</td><td>2</td></tr><tr><td>30</td><td>3</td><td>3</td></tr><tr><td>31</td><td></td><td></td></tr><tr><td>...</td><td>...</td><td>...</td></tr></table>"
      ],
      "text/plain": [
       "\n",
       "#<Daru::DataFrame:84515000 @name = 024bd2fa-2c90-45ba-9d71-8a266acc8dc4 @size = 1000>\n",
       "                    b          a \n",
       "         0          2          3 \n",
       "         1          2          1 \n",
       "         2          1        nil \n",
       "         3          0          0 \n",
       "         4          3          2 \n",
       "         5          1          1 \n",
       "         6        nil          3 \n",
       "         7          2        nil \n",
       "         8          1          1 \n",
       "         9          1        nil \n",
       "        10          0          1 \n",
       "        11          1          2 \n",
       "        12          1          1 \n",
       "        13          2          3 \n",
       "        14          3        nil \n",
       "       ...        ...        ... \n"
      ]
     },
     "execution_count": 2,
     "metadata": {},
     "output_type": "execute_result"
    }
   ],
   "source": [
    "require 'daru'\n",
    "samples = 1000\n",
    "\n",
    "# We set lazy_update to *true* so that time is not wasted in updating\n",
    "# metdata every time an assignment happens.\n",
    "Daru.lazy_update = true\n",
    "# The 'new_with_size' function lets you specify the size of the \n",
    "# vector as the argument and the block specifies how each element\n",
    "# of the vector will be created.\n",
    "a = Daru::Vector.new_with_size(samples) {r=rand(5); r==4 ? nil: r}\n",
    "b = Daru::Vector.new_with_size(samples) {r=rand(5); r==4 ? nil: r}\n",
    "\n",
    "# Call `#update` for updating the metadata of each vector, once \n",
    "# creation from the block is complete.\n",
    "a.update\n",
    "b.update\n",
    "\n",
    "# Pass the Daru::Vector objects in a Hash to the DataFrame constructor\n",
    "# to make a DataFrame.\n",
    "# \n",
    "# The *order* option lets you specify the way the vectors in the Hash \n",
    "# will be ordered. Not specifyin this will order vectors in alphabetical\n",
    "# order by default.\n",
    "ds = Daru::DataFrame.new({:a=>a,:b=>b}, order: [:b, :a])\n",
    "\n",
    "# Reset lazy_update to *false* to prevent other code from breaking.\n",
    "Daru.lazy_update = false\n",
    "\n",
    "ds"
   ]
  }
 ],
 "metadata": {
  "kernelspec": {
   "display_name": "Ruby 2.2.1",
   "language": "ruby",
   "name": "ruby"
  },
  "language_info": {
   "file_extension": "rb",
   "mimetype": "application/x-ruby",
   "name": "ruby",
   "version": "2.2.1"
  }
 },
 "nbformat": 4,
 "nbformat_minor": 0
}
