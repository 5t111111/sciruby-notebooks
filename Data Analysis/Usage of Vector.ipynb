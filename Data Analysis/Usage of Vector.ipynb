{
 "cells": [
  {
   "cell_type": "markdown",
   "metadata": {},
   "source": [
    "# A Glimpse of Daru::Vector\n",
    "\n",
    "In [daru](https://github.com/v0dro/daru), the Daru::Vector is a 1 dimensional array with axis labels.\n",
    "\n",
    "Labels should be unique. The object supports both integer- and label-based indexing and provides a host of methods for performing operations involving the index. Statistical methods automatically exclude missing data (currently represented by default as nil).\n",
    "\n",
    "Operations between Vectors (+, -, /, , \\*) align values based on their associated index values. The Vectors need not be of similar length. The result index will be the sorted union of the two indexes.\n",
    "\n",
    "Daru::Vector is similar to pandas.Series."
   ]
  },
  {
   "cell_type": "markdown",
   "metadata": {},
   "source": [
    "The examples below demonstrates how a simple Daru::Vector can be created and its data viewed.\n",
    "\n",
    "This first example shows very basic creation of a Vector with missing data (represented by *nil*)."
   ]
  },
  {
   "cell_type": "code",
   "execution_count": 1,
   "metadata": {
    "collapsed": false
   },
   "outputs": [
    {
     "data": {
      "application/javascript": [
       "if(window['d3'] === undefined ||\n",
       "   window['Nyaplot'] === undefined){\n",
       "    var path = {\"d3\":\"http://d3js.org/d3.v3.min\",\"downloadable\":\"http://cdn.rawgit.com/domitry/d3-downloadable/master/d3-downloadable\"};\n",
       "\n",
       "\n",
       "\n",
       "    var shim = {\"d3\":{\"exports\":\"d3\"},\"downloadable\":{\"exports\":\"downloadable\"}};\n",
       "\n",
       "    require.config({paths: path, shim:shim});\n",
       "\n",
       "\n",
       "require(['d3'], function(d3){window['d3']=d3;console.log('finished loading d3');require(['downloadable'], function(downloadable){window['downloadable']=downloadable;console.log('finished loading downloadable');\n",
       "\n",
       "\tvar script = d3.select(\"head\")\n",
       "\t    .append(\"script\")\n",
       "\t    .attr(\"src\", \"http://cdn.rawgit.com/domitry/Nyaplotjs/master/release/nyaplot.js\")\n",
       "\t    .attr(\"async\", true);\n",
       "\n",
       "\tscript[0][0].onload = script[0][0].onreadystatechange = function(){\n",
       "\n",
       "\n",
       "\t    var event = document.createEvent(\"HTMLEvents\");\n",
       "\t    event.initEvent(\"load_nyaplot\",false,false);\n",
       "\t    window.dispatchEvent(event);\n",
       "\t    console.log('Finished loading Nyaplotjs');\n",
       "\n",
       "\t};\n",
       "\n",
       "\n",
       "});});\n",
       "}\n"
      ],
      "text/plain": [
       "\"if(window['d3'] === undefined ||\\n   window['Nyaplot'] === undefined){\\n    var path = {\\\"d3\\\":\\\"http://d3js.org/d3.v3.min\\\",\\\"downloadable\\\":\\\"http://cdn.rawgit.com/domitry/d3-downloadable/master/d3-downloadable\\\"};\\n\\n\\n\\n    var shim = {\\\"d3\\\":{\\\"exports\\\":\\\"d3\\\"},\\\"downloadable\\\":{\\\"exports\\\":\\\"downloadable\\\"}};\\n\\n    require.config({paths: path, shim:shim});\\n\\n\\nrequire(['d3'], function(d3){window['d3']=d3;console.log('finished loading d3');require(['downloadable'], function(downloadable){window['downloadable']=downloadable;console.log('finished loading downloadable');\\n\\n\\tvar script = d3.select(\\\"head\\\")\\n\\t    .append(\\\"script\\\")\\n\\t    .attr(\\\"src\\\", \\\"http://cdn.rawgit.com/domitry/Nyaplotjs/master/release/nyaplot.js\\\")\\n\\t    .attr(\\\"async\\\", true);\\n\\n\\tscript[0][0].onload = script[0][0].onreadystatechange = function(){\\n\\n\\n\\t    var event = document.createEvent(\\\"HTMLEvents\\\");\\n\\t    event.initEvent(\\\"load_nyaplot\\\",false,false);\\n\\t    window.dispatchEvent(event);\\n\\t    console.log('Finished loading Nyaplotjs');\\n\\n\\t};\\n\\n\\n});});\\n}\\n\""
      ]
     },
     "metadata": {},
     "output_type": "display_data"
    },
    {
     "data": {
      "text/plain": [
       "true"
      ]
     },
     "execution_count": 1,
     "metadata": {},
     "output_type": "execute_result"
    }
   ],
   "source": [
    "require 'daru'"
   ]
  },
  {
   "cell_type": "markdown",
   "metadata": {},
   "source": [
    "The very basic way to create a Vector is by just passing an Array of values into the constructor.\n",
    "\n",
    "Index labels can be specified using the `:index` option and you can also name your Vector something using the `:name` option. In case `:index` isn't specified, the Vector will be assigned an index starting from 0."
   ]
  },
  {
   "cell_type": "code",
   "execution_count": 2,
   "metadata": {
    "collapsed": false
   },
   "outputs": [
    {
     "data": {
      "text/html": [
       "<table><tr><th colspan=\"2\">Daru::Vector:82721930  size: 5</th></tr><tr><th> </th><th>bazinga</th></tr><tr><td>a</td><td>1</td></tr><tr><td>b</td><td>2</td></tr><tr><td>c</td><td>3</td></tr><tr><td>d</td><td>4</td></tr><tr><td>e</td><td>5</td></tr></table>"
      ],
      "text/plain": [
       "\n",
       "#<Daru::Vector:82721930 @name = bazinga @size = 5 >\n",
       "        bazinga\n",
       "      a       1\n",
       "      b       2\n",
       "      c       3\n",
       "      d       4\n",
       "      e       5\n"
      ]
     },
     "execution_count": 2,
     "metadata": {},
     "output_type": "execute_result"
    }
   ],
   "source": [
    "a = Daru::Vector.new([1,2,3,4,5], index: [:a, :b, :c, :d, :e], name: :bazinga)"
   ]
  },
  {
   "cell_type": "markdown",
   "metadata": {},
   "source": [
    "If you want to treat values apart from *nil* as missing, you can specify them using the `:missing_values` option.\n",
    "\n",
    "The `#only_valid` method can then be used for obtaining all the *non-missing* values of the Vector. Notice that `only_valid` preserves the indexes (labels) of the data."
   ]
  },
  {
   "cell_type": "code",
   "execution_count": 3,
   "metadata": {
    "collapsed": false
   },
   "outputs": [
    {
     "data": {
      "text/html": [
       "<table><tr><th colspan=\"2\">Daru::Vector:82837640  size: 5</th></tr><tr><th> </th><th>nil</th></tr><tr><td>0</td><td>1</td></tr><tr><td>1</td><td>2</td></tr><tr><td>2</td><td>3</td></tr><tr><td>5</td><td>4</td></tr><tr><td>6</td><td>6</td></tr></table>"
      ],
      "text/plain": [
       "\n",
       "#<Daru::Vector:82837640 @name = nil @size = 5 >\n",
       "    nil\n",
       "  0   1\n",
       "  1   2\n",
       "  2   3\n",
       "  5   4\n",
       "  6   6\n"
      ]
     },
     "execution_count": 3,
     "metadata": {},
     "output_type": "execute_result"
    }
   ],
   "source": [
    "a = Daru::Vector.new([1,2,3,5,5,4,6,nil,nil], missing_values: [5,nil])\n",
    "a.only_valid"
   ]
  },
  {
   "cell_type": "markdown",
   "metadata": {},
   "source": [
    "The `Vector.[]` class method creates a vector from almost any object that has a `#to_a` method defined on it. It is similar to R's `c` method."
   ]
  },
  {
   "cell_type": "code",
   "execution_count": 4,
   "metadata": {
    "collapsed": false
   },
   "outputs": [
    {
     "data": {
      "text/html": [
       "<table><tr><th colspan=\"2\">Daru::Vector:83003070  size: 9</th></tr><tr><th> </th><th>nil</th></tr><tr><td>0</td><td>1</td></tr><tr><td>1</td><td>2</td></tr><tr><td>2</td><td>3</td></tr><tr><td>3</td><td>4</td></tr><tr><td>4</td><td>6</td></tr><tr><td>5</td><td>7</td></tr><tr><td>6</td><td>8</td></tr><tr><td>7</td><td>9</td></tr><tr><td>8</td><td>10</td></tr></table>"
      ],
      "text/plain": [
       "\n",
       "#<Daru::Vector:83003070 @name = nil @size = 9 >\n",
       "    nil\n",
       "  0   1\n",
       "  1   2\n",
       "  2   3\n",
       "  3   4\n",
       "  4   6\n",
       "  5   7\n",
       "  6   8\n",
       "  7   9\n",
       "  8  10\n"
      ]
     },
     "execution_count": 4,
     "metadata": {},
     "output_type": "execute_result"
    }
   ],
   "source": [
    "b = Daru::Vector[1,2,3,4,6..10]"
   ]
  },
  {
   "cell_type": "markdown",
   "metadata": {},
   "source": [
    "The *new_with_size* class method lets you create a Daru::Vector by specifying the size as the argument. The optional block, if supplied, is run once for populating each element in the Vector.\n",
    "\n",
    "The result of each run of the block is the value that is ultimately assigned to that position in the Vector."
   ]
  },
  {
   "cell_type": "code",
   "execution_count": 5,
   "metadata": {
    "collapsed": false
   },
   "outputs": [
    {
     "data": {
      "text/html": [
       "<table><tr><th colspan=\"2\">Daru::Vector:83283140  size: 1000</th></tr><tr><th> </th><th>new_vector</th></tr><tr><td>0</td><td>1</td></tr><tr><td>1</td><td>0</td></tr><tr><td>2</td><td></td></tr><tr><td>3</td><td>2</td></tr><tr><td>4</td><td></td></tr><tr><td>5</td><td>2</td></tr><tr><td>6</td><td>0</td></tr><tr><td>7</td><td>3</td></tr><tr><td>8</td><td></td></tr><tr><td>9</td><td></td></tr><tr><td>10</td><td>1</td></tr><tr><td>11</td><td>1</td></tr><tr><td>12</td><td>0</td></tr><tr><td>13</td><td>0</td></tr><tr><td>14</td><td>3</td></tr><tr><td>15</td><td>3</td></tr><tr><td>16</td><td>0</td></tr><tr><td>17</td><td>2</td></tr><tr><td>18</td><td>2</td></tr><tr><td>19</td><td>2</td></tr><tr><td>20</td><td>2</td></tr><tr><td>21</td><td>2</td></tr><tr><td>22</td><td>2</td></tr><tr><td>23</td><td>1</td></tr><tr><td>24</td><td>3</td></tr><tr><td>25</td><td>2</td></tr><tr><td>26</td><td></td></tr><tr><td>27</td><td>3</td></tr><tr><td>28</td><td></td></tr><tr><td>29</td><td>0</td></tr><tr><td>30</td><td>1</td></tr><tr><td>31</td><td></td></tr><tr><td>...</td><td>...</td></tr></table>"
      ],
      "text/plain": [
       "\n",
       "#<Daru::Vector:83283140 @name = new_vector @size = 1000 >\n",
       "           new_vector\n",
       "         0          1\n",
       "         1          0\n",
       "         2        nil\n",
       "         3          2\n",
       "         4        nil\n",
       "         5          2\n",
       "         6          0\n",
       "         7          3\n",
       "         8        nil\n",
       "         9        nil\n",
       "        10          1\n",
       "        11          1\n",
       "        12          0\n",
       "        13          0\n",
       "        14          3\n",
       "        15          3\n",
       "        16          0\n",
       "       ...        ...\n"
      ]
     },
     "execution_count": 5,
     "metadata": {},
     "output_type": "execute_result"
    }
   ],
   "source": [
    "a = Daru::Vector.new_with_size(1000, name: :new_vector) { r=rand(5); r == 4 ? nil: r; }"
   ]
  },
  {
   "cell_type": "markdown",
   "metadata": {},
   "source": [
    "Use the `#head` method for obtaining the top 10 values of the Vector."
   ]
  },
  {
   "cell_type": "code",
   "execution_count": 6,
   "metadata": {
    "collapsed": false
   },
   "outputs": [
    {
     "data": {
      "text/html": [
       "<table><tr><th colspan=\"2\">Daru::Vector:83472740  size: 10</th></tr><tr><th> </th><th>new_vector</th></tr><tr><td>0</td><td>1</td></tr><tr><td>1</td><td>0</td></tr><tr><td>2</td><td></td></tr><tr><td>3</td><td>2</td></tr><tr><td>4</td><td></td></tr><tr><td>5</td><td>2</td></tr><tr><td>6</td><td>0</td></tr><tr><td>7</td><td>3</td></tr><tr><td>8</td><td></td></tr><tr><td>9</td><td></td></tr></table>"
      ],
      "text/plain": [
       "\n",
       "#<Daru::Vector:83472740 @name = new_vector @size = 10 >\n",
       "           new_vector\n",
       "         0          1\n",
       "         1          0\n",
       "         2        nil\n",
       "         3          2\n",
       "         4        nil\n",
       "         5          2\n",
       "         6          0\n",
       "         7          3\n",
       "         8        nil\n",
       "         9        nil\n"
      ]
     },
     "execution_count": 6,
     "metadata": {},
     "output_type": "execute_result"
    }
   ],
   "source": [
    "a.head"
   ]
  },
  {
   "cell_type": "markdown",
   "metadata": {},
   "source": [
    "### Sorting\n",
    "\n",
    "The `Daru::Vector#sort` method will sort the Vector and preserve the indexes."
   ]
  },
  {
   "cell_type": "code",
   "execution_count": 7,
   "metadata": {
    "collapsed": false
   },
   "outputs": [
    {
     "data": {
      "text/html": [
       "<table><tr><th colspan=\"2\">Daru::Vector:83500890  size: 8</th></tr><tr><th> </th><th>nil</th></tr><tr><td>0</td><td>23</td></tr><tr><td>1</td><td>144</td></tr><tr><td>2</td><td>332</td></tr><tr><td>3</td><td>11</td></tr><tr><td>4</td><td>2</td></tr><tr><td>5</td><td>5</td></tr><tr><td>6</td><td>6765</td></tr><tr><td>7</td><td>3</td></tr></table>"
      ],
      "text/plain": [
       "\n",
       "#<Daru::Vector:83500890 @name = nil @size = 8 >\n",
       "      nil\n",
       "   0   23\n",
       "   1  144\n",
       "   2  332\n",
       "   3   11\n",
       "   4    2\n",
       "   5    5\n",
       "   6 6765\n",
       "   7    3\n"
      ]
     },
     "execution_count": 7,
     "metadata": {},
     "output_type": "execute_result"
    }
   ],
   "source": [
    "a = Daru::Vector.new([23,144,332,11,2,5,6765,3])"
   ]
  },
  {
   "cell_type": "code",
   "execution_count": 8,
   "metadata": {
    "collapsed": false
   },
   "outputs": [
    {
     "data": {
      "text/html": [
       "<table><tr><th colspan=\"2\">Daru::Vector:82787750  size: 8</th></tr><tr><th> </th><th>nil</th></tr><tr><td>4</td><td>2</td></tr><tr><td>7</td><td>3</td></tr><tr><td>5</td><td>5</td></tr><tr><td>3</td><td>11</td></tr><tr><td>0</td><td>23</td></tr><tr><td>1</td><td>144</td></tr><tr><td>2</td><td>332</td></tr><tr><td>6</td><td>6765</td></tr></table>"
      ],
      "text/plain": [
       "\n",
       "#<Daru::Vector:82787750 @name = nil @size = 8 >\n",
       "      nil\n",
       "   4    2\n",
       "   7    3\n",
       "   5    5\n",
       "   3   11\n",
       "   0   23\n",
       "   1  144\n",
       "   2  332\n",
       "   6 6765\n"
      ]
     },
     "execution_count": 8,
     "metadata": {},
     "output_type": "execute_result"
    }
   ],
   "source": [
    "a.sort"
   ]
  },
  {
   "cell_type": "markdown",
   "metadata": {},
   "source": [
    "### Basic Math\n",
    "\n",
    "Aritmetic operations done between two vectors will always perform the aritmetic on corresponding elements of the same index.\n",
    "\n",
    "The concerned vectors need not have the same size of even the same index. In case of a mismatch, a sorted union of the indexes of both the Vectors is used as an index for the resulting vector.\n",
    "\n",
    "In case a particular index exists in one vector but not in the other, the result Vector has a *nil* placed in that index position.\n",
    "\n",
    "Daru::Vector supports +, -, \\*, / and \\*\\* operators."
   ]
  },
  {
   "cell_type": "code",
   "execution_count": 9,
   "metadata": {
    "collapsed": false
   },
   "outputs": [
    {
     "data": {
      "text/html": [
       "<table><tr><th colspan=\"2\">Daru::Vector:82655340  size: 7</th></tr><tr><th> </th><th>nil</th></tr><tr><td>a</td><td>2</td></tr><tr><td>b</td><td>4</td></tr><tr><td>c</td><td>6</td></tr><tr><td>d</td><td></td></tr><tr><td>f</td><td></td></tr><tr><td>ff</td><td></td></tr><tr><td>five</td><td>10</td></tr></table>"
      ],
      "text/plain": [
       "\n",
       "#<Daru::Vector:82655340 @name = nil @size = 7 >\n",
       "      nil\n",
       "   a    2\n",
       "   b    4\n",
       "   c    6\n",
       "   d  nil\n",
       "   f  nil\n",
       "  ff  nil\n",
       "five   10\n"
      ]
     },
     "execution_count": 9,
     "metadata": {},
     "output_type": "execute_result"
    }
   ],
   "source": [
    "a = Daru::Vector.new([1,2,3,4,5,6], index: [:a, :b, :c, :d, :five, :f])\n",
    "b = Daru::Vector.new([1,2,3,4,5], index: [:a, :b, :c, :ff,:five])\n",
    "\n",
    "a + b"
   ]
  },
  {
   "cell_type": "code",
   "execution_count": 10,
   "metadata": {
    "collapsed": false
   },
   "outputs": [
    {
     "data": {
      "text/html": [
       "<table><tr><th colspan=\"2\">Daru::Vector:83593280  size: 7</th></tr><tr><th> </th><th>nil</th></tr><tr><td>a</td><td>1</td></tr><tr><td>b</td><td>4</td></tr><tr><td>c</td><td>27</td></tr><tr><td>d</td><td></td></tr><tr><td>f</td><td></td></tr><tr><td>ff</td><td></td></tr><tr><td>five</td><td>3125</td></tr></table>"
      ],
      "text/plain": [
       "\n",
       "#<Daru::Vector:83593280 @name = nil @size = 7 >\n",
       "      nil\n",
       "   a    1\n",
       "   b    4\n",
       "   c   27\n",
       "   d  nil\n",
       "   f  nil\n",
       "  ff  nil\n",
       "five 3125\n"
      ]
     },
     "execution_count": 10,
     "metadata": {},
     "output_type": "execute_result"
    }
   ],
   "source": [
    "a ** b"
   ]
  },
  {
   "cell_type": "markdown",
   "metadata": {},
   "source": [
    "Performing arithmetic with a single number will perform the operation on each element in the Vector and return the resultant Vector."
   ]
  },
  {
   "cell_type": "code",
   "execution_count": 11,
   "metadata": {
    "collapsed": false
   },
   "outputs": [
    {
     "data": {
      "text/html": [
       "<table><tr><th colspan=\"2\">Daru::Vector:83485310  size: 6</th></tr><tr><th> </th><th>nil</th></tr><tr><td>a</td><td>5</td></tr><tr><td>b</td><td>10</td></tr><tr><td>c</td><td>15</td></tr><tr><td>d</td><td>20</td></tr><tr><td>five</td><td>25</td></tr><tr><td>f</td><td>30</td></tr></table>"
      ],
      "text/plain": [
       "\n",
       "#<Daru::Vector:83485310 @name = nil @size = 6 >\n",
       "      nil\n",
       "   a    5\n",
       "   b   10\n",
       "   c   15\n",
       "   d   20\n",
       "five   25\n",
       "   f   30\n"
      ]
     },
     "execution_count": 11,
     "metadata": {},
     "output_type": "execute_result"
    }
   ],
   "source": [
    "a * 5"
   ]
  },
  {
   "cell_type": "markdown",
   "metadata": {},
   "source": [
    "### Statistics\n",
    "\n",
    "Daru::Vector defines a host of statistics methods, which are useful for performing ephemeral statistics on numeric data. All the statistics methods ignore the *missing* values and work only on the valid data.\n",
    "\n",
    "For a complete list of statistics functions see the Daru::Maths::Statistics::Vector module in the [docs](https://rubygems.org/gems/daru)."
   ]
  },
  {
   "cell_type": "code",
   "execution_count": 12,
   "metadata": {
    "collapsed": false
   },
   "outputs": [
    {
     "data": {
      "text/plain": [
       "4.0"
      ]
     },
     "execution_count": 12,
     "metadata": {},
     "output_type": "execute_result"
    }
   ],
   "source": [
    "v = Daru::Vector.new([1,2,3,4,5,nil,6,nil,7])\n",
    "v.mean"
   ]
  },
  {
   "cell_type": "code",
   "execution_count": 13,
   "metadata": {
    "collapsed": false
   },
   "outputs": [
    {
     "data": {
      "text/plain": [
       "4.666666666666667"
      ]
     },
     "execution_count": 13,
     "metadata": {},
     "output_type": "execute_result"
    }
   ],
   "source": [
    "v.variance"
   ]
  },
  {
   "cell_type": "code",
   "execution_count": 14,
   "metadata": {
    "collapsed": false
   },
   "outputs": [
    {
     "data": {
      "text/plain": [
       "4"
      ]
     },
     "execution_count": 14,
     "metadata": {},
     "output_type": "execute_result"
    }
   ],
   "source": [
    "v.median"
   ]
  },
  {
   "cell_type": "markdown",
   "metadata": {},
   "source": [
    "### Plotting\n",
    "\n",
    "Daru uses [nyaplot](https://github.com/domitry/nyaplot/tree/master) internally for generating interactive plots.\n",
    "\n",
    "You can also use rubyvis through [statsample](https://github.com/SciRuby/statsample) for quickly generating scatter plots, histograms and box plots."
   ]
  },
  {
   "cell_type": "markdown",
   "metadata": {},
   "source": [
    "A simple scatter plot can be generated by simply calling the `#plot` function on Daru::Vector. Feel free to interact with the generated plot."
   ]
  },
  {
   "cell_type": "code",
   "execution_count": 15,
   "metadata": {
    "collapsed": false
   },
   "outputs": [
    {
     "data": {
      "text/html": [
       "<div id='vis-5d779365-d3f1-458a-9c7f-59b4df023b91'></div>\n",
       "<script>\n",
       "(function(){\n",
       "    var render = function(){\n",
       "        var model = {\"panes\":[{\"diagrams\":[{\"type\":\"scatter\",\"options\":{\"x\":\"data0\",\"y\":\"data1\"},\"data\":\"208c1bf4-25af-46e8-b787-34d430aaf7cf\"}],\"options\":{\"zoom\":true,\"width\":700,\"xrange\":[0,51],\"yrange\":[-0.9986295347545738,0.9998476951563913]}}],\"data\":{\"208c1bf4-25af-46e8-b787-34d430aaf7cf\":[{\"data0\":0,\"data1\":0.0},{\"data0\":1,\"data1\":0.12186934340514748},{\"data0\":2,\"data1\":0.24192189559966773},{\"data0\":3,\"data1\":0.35836794954530027},{\"data0\":4,\"data1\":0.4694715627858908},{\"data0\":5,\"data1\":0.573576436351046},{\"data0\":6,\"data1\":0.6691306063588582},{\"data0\":7,\"data1\":0.754709580222772},{\"data0\":8,\"data1\":0.8290375725550417},{\"data0\":9,\"data1\":0.8910065241883678},{\"data0\":10,\"data1\":0.9396926207859083},{\"data0\":11,\"data1\":0.9743700647852352},{\"data0\":12,\"data1\":0.9945218953682733},{\"data0\":13,\"data1\":0.9998476951563913},{\"data0\":14,\"data1\":0.9902680687415704},{\"data0\":15,\"data1\":0.9659258262890683},{\"data0\":16,\"data1\":0.9271838545667874},{\"data0\":17,\"data1\":0.8746197071393959},{\"data0\":18,\"data1\":0.8090169943749475},{\"data0\":19,\"data1\":0.7313537016191706},{\"data0\":20,\"data1\":0.6427876096865395},{\"data0\":21,\"data1\":0.544639035015027},{\"data0\":22,\"data1\":0.4383711467890773},{\"data0\":23,\"data1\":0.32556815445715703},{\"data0\":24,\"data1\":0.20791169081775931},{\"data0\":25,\"data1\":0.08715574274765864},{\"data0\":26,\"data1\":-0.0348994967025009},{\"data0\":27,\"data1\":-0.15643446504023073},{\"data0\":28,\"data1\":-0.275637355816999},{\"data0\":29,\"data1\":-0.39073112848927355},{\"data0\":30,\"data1\":-0.5000000000000001},{\"data0\":31,\"data1\":-0.601815023152048},{\"data0\":32,\"data1\":-0.6946583704589974},{\"data0\":33,\"data1\":-0.7771459614569711},{\"data0\":34,\"data1\":-0.848048096156426},{\"data0\":35,\"data1\":-0.9063077870366497},{\"data0\":36,\"data1\":-0.9510565162951535},{\"data0\":37,\"data1\":-0.9816271834476639},{\"data0\":38,\"data1\":-0.9975640502598242},{\"data0\":39,\"data1\":-0.9986295347545738},{\"data0\":40,\"data1\":-0.9848077530122081},{\"data0\":41,\"data1\":-0.9563047559630354},{\"data0\":42,\"data1\":-0.9135454576426008},{\"data0\":43,\"data1\":-0.8571673007021123},{\"data0\":44,\"data1\":-0.7880107536067218},{\"data0\":45,\"data1\":-0.7071067811865477},{\"data0\":46,\"data1\":-0.6156614753256588},{\"data0\":47,\"data1\":-0.5150380749100545},{\"data0\":48,\"data1\":-0.40673664307580015},{\"data0\":49,\"data1\":-0.29237170472273627},{\"data0\":50,\"data1\":-0.17364817766693127},{\"data0\":51,\"data1\":-0.05233595624294437}]},\"extension\":[]}\n",
       "        var id_name = '#vis-5d779365-d3f1-458a-9c7f-59b4df023b91';\n",
       "        Nyaplot.core.parse(model, id_name);\n",
       "\n",
       "        require(['downloadable'], function(downloadable){\n",
       "          var svg = d3.select(id_name).select(\"svg\");\n",
       "\t  if(!svg.empty())\n",
       "\t    svg.call(downloadable().filename('fig'));\n",
       "\t});\n",
       "    };\n",
       "    if(window['Nyaplot']==undefined){\n",
       "        window.addEventListener('load_nyaplot', render, false);\n",
       "\treturn;\n",
       "    } else {\n",
       "       render();\n",
       "    }\n",
       "})();\n",
       "</script>\n"
      ],
      "text/plain": [
       "#<Nyaplot::Frame:0x9e60e98 @properties={:panes=>[#<Nyaplot::Plot:0x9e70910 @properties={:diagrams=>[#<Nyaplot::Diagram:0x9e61258 @properties={:type=>:scatter, :options=>{:x=>\"data0\", :y=>\"data1\"}, :data=>\"208c1bf4-25af-46e8-b787-34d430aaf7cf\"}, @xrange=[0, 51], @yrange=[-0.9986295347545738, 0.9998476951563913]>], :options=>{:zoom=>true, :width=>700, :xrange=>[0, 51], :yrange=>[-0.9986295347545738, 0.9998476951563913]}}>], :data=>{\"208c1bf4-25af-46e8-b787-34d430aaf7cf\"=>#<Nyaplot::DataFrame:0x9e70564 @name=\"208c1bf4-25af-46e8-b787-34d430aaf7cf\", @rows=[{:data0=>0, :data1=>0.0}, {:data0=>1, :data1=>0.12186934340514748}, {:data0=>2, :data1=>0.24192189559966773}, {:data0=>3, :data1=>0.35836794954530027}, {:data0=>4, :data1=>0.4694715627858908}, {:data0=>5, :data1=>0.573576436351046}, {:data0=>6, :data1=>0.6691306063588582}, {:data0=>7, :data1=>0.754709580222772}, {:data0=>8, :data1=>0.8290375725550417}, {:data0=>9, :data1=>0.8910065241883678}, {:data0=>10, :data1=>0.9396926207859083}, {:data0=>11, :data1=>0.9743700647852352}, {:data0=>12, :data1=>0.9945218953682733}, {:data0=>13, :data1=>0.9998476951563913}, {:data0=>14, :data1=>0.9902680687415704}, {:data0=>15, :data1=>0.9659258262890683}, {:data0=>16, :data1=>0.9271838545667874}, {:data0=>17, :data1=>0.8746197071393959}, {:data0=>18, :data1=>0.8090169943749475}, {:data0=>19, :data1=>0.7313537016191706}, {:data0=>20, :data1=>0.6427876096865395}, {:data0=>21, :data1=>0.544639035015027}, {:data0=>22, :data1=>0.4383711467890773}, {:data0=>23, :data1=>0.32556815445715703}, {:data0=>24, :data1=>0.20791169081775931}, {:data0=>25, :data1=>0.08715574274765864}, {:data0=>26, :data1=>-0.0348994967025009}, {:data0=>27, :data1=>-0.15643446504023073}, {:data0=>28, :data1=>-0.275637355816999}, {:data0=>29, :data1=>-0.39073112848927355}, {:data0=>30, :data1=>-0.5000000000000001}, {:data0=>31, :data1=>-0.601815023152048}, {:data0=>32, :data1=>-0.6946583704589974}, {:data0=>33, :data1=>-0.7771459614569711}, {:data0=>34, :data1=>-0.848048096156426}, {:data0=>35, :data1=>-0.9063077870366497}, {:data0=>36, :data1=>-0.9510565162951535}, {:data0=>37, :data1=>-0.9816271834476639}, {:data0=>38, :data1=>-0.9975640502598242}, {:data0=>39, :data1=>-0.9986295347545738}, {:data0=>40, :data1=>-0.9848077530122081}, {:data0=>41, :data1=>-0.9563047559630354}, {:data0=>42, :data1=>-0.9135454576426008}, {:data0=>43, :data1=>-0.8571673007021123}, {:data0=>44, :data1=>-0.7880107536067218}, {:data0=>45, :data1=>-0.7071067811865477}, {:data0=>46, :data1=>-0.6156614753256588}, {:data0=>47, :data1=>-0.5150380749100545}, {:data0=>48, :data1=>-0.40673664307580015}, {:data0=>49, :data1=>-0.29237170472273627}, {:data0=>50, :data1=>-0.17364817766693127}, {:data0=>51, :data1=>-0.05233595624294437}]>}, :extension=>[]}>"
      ]
     },
     "metadata": {},
     "output_type": "display_data"
    }
   ],
   "source": [
    "v = Daru::Vector.new((0..360).step(7).map { |i| Math.sin((i*Math::PI)/180) })\n",
    "v.plot"
   ]
  },
  {
   "cell_type": "markdown",
   "metadata": {},
   "source": [
    "Now, lets take some dummy data of a survey that shows the number of people of each age group that are part of this survey. We want to plot the number of people from each age group who have taken the test in a bar graph.\n",
    "\n",
    "For this purpose we use the `#plot` function again, but this time supply it with the `:type` option, and set the value of this option as `:bar`. The plot function yeilds the corresponding `Nyaplot::Plot` object in the block, which can then be used for setting different parameters of the final plot. For more configuration methods see the [Nyaplot::Plot](https://rubygems.org/gems/nyaplot) documentation."
   ]
  },
  {
   "cell_type": "code",
   "execution_count": 16,
   "metadata": {
    "collapsed": false
   },
   "outputs": [
    {
     "data": {
      "text/html": [
       "<div id='vis-0e240666-e5c5-4cfc-8eee-660454aef5ba'></div>\n",
       "<script>\n",
       "(function(){\n",
       "    var render = function(){\n",
       "        var model = {\"panes\":[{\"diagrams\":[{\"type\":\"bar\",\"options\":{\"x\":\"data0\",\"y\":\"data1\"},\"data\":\"7eddafdc-bc78-4a08-bb3c-a9c5224246b2\"}],\"options\":{\"x_label\":\"Age Groups\",\"y_label\":\"Number of People Surveyed\",\"width\":700,\"xrange\":[\"18-24\",\"24-30\",\"Under 18\",\"30-40\",\"40-50\"],\"yrange\":[0,70]}}],\"data\":{\"7eddafdc-bc78-4a08-bb3c-a9c5224246b2\":[{\"data0\":\"18-24\",\"data1\":40},{\"data0\":\"24-30\",\"data1\":50},{\"data0\":\"Under 18\",\"data1\":20},{\"data0\":\"30-40\",\"data1\":70},{\"data0\":\"40-50\",\"data1\":10}]},\"extension\":[]}\n",
       "        var id_name = '#vis-0e240666-e5c5-4cfc-8eee-660454aef5ba';\n",
       "        Nyaplot.core.parse(model, id_name);\n",
       "\n",
       "        require(['downloadable'], function(downloadable){\n",
       "          var svg = d3.select(id_name).select(\"svg\");\n",
       "\t  if(!svg.empty())\n",
       "\t    svg.call(downloadable().filename('fig'));\n",
       "\t});\n",
       "    };\n",
       "    if(window['Nyaplot']==undefined){\n",
       "        window.addEventListener('load_nyaplot', render, false);\n",
       "\treturn;\n",
       "    } else {\n",
       "       render();\n",
       "    }\n",
       "})();\n",
       "</script>\n"
      ],
      "text/plain": [
       "#<Nyaplot::Frame:0x9e22260 @properties={:panes=>[#<Nyaplot::Plot:0x9e230ac @properties={:diagrams=>[#<Nyaplot::Diagram:0x9e22634 @properties={:type=>:bar, :options=>{:x=>\"data0\", :y=>\"data1\"}, :data=>\"7eddafdc-bc78-4a08-bb3c-a9c5224246b2\"}, @xrange=[:\"18-24\", :\"24-30\", :\"Under 18\", :\"30-40\", :\"40-50\"], @yrange=[0, 70]>], :options=>{:x_label=>\"Age Groups\", :y_label=>\"Number of People Surveyed\", :width=>700, :xrange=>[:\"18-24\", :\"24-30\", :\"Under 18\", :\"30-40\", :\"40-50\"], :yrange=>[0, 70]}}>], :data=>{\"7eddafdc-bc78-4a08-bb3c-a9c5224246b2\"=>#<Nyaplot::DataFrame:0x9e22d28 @name=\"7eddafdc-bc78-4a08-bb3c-a9c5224246b2\", @rows=[{:data0=>:\"18-24\", :data1=>40}, {:data0=>:\"24-30\", :data1=>50}, {:data0=>:\"Under 18\", :data1=>20}, {:data0=>:\"30-40\", :data1=>70}, {:data0=>:\"40-50\", :data1=>10}]>}, :extension=>[]}>"
      ]
     },
     "metadata": {},
     "output_type": "display_data"
    }
   ],
   "source": [
    "v = Daru::Vector.new([40,50,20,70,10], index: ['18-24', '24-30', 'Under 18', '30-40', '40-50'], name: \"Age Range\")\n",
    "v.plot(type: :bar) do |plt|\n",
    "  plt.x_label \"Age Groups\"\n",
    "  plt.y_label \"Number of People Surveyed\"\n",
    "end"
   ]
  },
  {
   "cell_type": "markdown",
   "metadata": {},
   "source": [
    "The third kind of plot that Daru::Vector can easily generate from nyaplot is the histogram.\n",
    "\n",
    "To demonstrate, we'll prepare some sample data using the `rnorm` function from the `statsample` ruby gem. The rnorm function just generates normally distributied random variables (1000 in this case) and returns a Daru::Vector object that contains these numbers (in variable `a`).\n",
    "\n",
    "A histogram of the normally distributed function has been generated below."
   ]
  },
  {
   "cell_type": "code",
   "execution_count": 17,
   "metadata": {
    "collapsed": false
   },
   "outputs": [
    {
     "data": {
      "text/html": [
       "<div id='vis-21785a20-9845-443e-929d-f3b479f5fb42'></div>\n",
       "<script>\n",
       "(function(){\n",
       "    var render = function(){\n",
       "        var model = {\"panes\":[{\"diagrams\":[{\"type\":\"histogram\",\"options\":{\"value\":\"data0\"},\"data\":\"f4a4ce94-cf94-4f1c-a2a6-e7aa80bfce12\"}],\"options\":{\"yrange\":[0,200],\"y_label\":\"Frequency\",\"x_label\":\"Bins\",\"width\":700,\"xrange\":[-3.4631664245354132,3.437054416954624]}}],\"data\":{\"f4a4ce94-cf94-4f1c-a2a6-e7aa80bfce12\":[{\"data0\":0.4621664215786019},{\"data0\":-0.46206333864036186},{\"data0\":0.47467110231354764},{\"data0\":-1.8242706826494632},{\"data0\":-0.22177748988523793},{\"data0\":-0.7564569417488423},{\"data0\":-0.44358456539470287},{\"data0\":0.20996149958633464},{\"data0\":-0.42688480266840717},{\"data0\":0.702417757128165},{\"data0\":-0.3222955735427263},{\"data0\":1.5917904972648844},{\"data0\":1.5065358736155408},{\"data0\":-2.099800156834334},{\"data0\":1.6893707030254825},{\"data0\":-1.843972582982121},{\"data0\":0.03990649912942349},{\"data0\":0.22404146213785756},{\"data0\":-0.26031984719956636},{\"data0\":-0.6903113727852005},{\"data0\":-0.06140785334992235},{\"data0\":1.4247123170866773},{\"data0\":0.17839767196219344},{\"data0\":0.9050103842262208},{\"data0\":0.8523801727842224},{\"data0\":0.7428562140881977},{\"data0\":-0.17767492462807352},{\"data0\":0.4121416478260522},{\"data0\":0.2834459165234966},{\"data0\":0.010054500795617954},{\"data0\":-1.1594731677753725},{\"data0\":1.17756906185406},{\"data0\":-0.6804002466593556},{\"data0\":-1.5535019386807774},{\"data0\":-1.3520961187529206},{\"data0\":-0.531102728096948},{\"data0\":2.1350108424009817},{\"data0\":-0.7219426857522249},{\"data0\":0.4380666380184998},{\"data0\":0.20367518189946698},{\"data0\":1.3699560082246716},{\"data0\":1.4762469695839768},{\"data0\":0.21484664209851825},{\"data0\":-0.7656260435204847},{\"data0\":-1.3507064958773398},{\"data0\":0.511075940773652},{\"data0\":-0.13786963563293445},{\"data0\":-0.41860883819579525},{\"data0\":0.782261917748716},{\"data0\":1.2682297015478585},{\"data0\":0.6511095540364501},{\"data0\":-0.4703996147223955},{\"data0\":-0.1614144785503104},{\"data0\":-1.010321096171269},{\"data0\":-0.9501371662697473},{\"data0\":-0.3794819281136866},{\"data0\":1.5484434811327674},{\"data0\":0.07743788043150823},{\"data0\":0.008023365029069973},{\"data0\":-1.2264749432472002},{\"data0\":0.7416637205889208},{\"data0\":-0.2852375287644994},{\"data0\":0.1997950381755827},{\"data0\":0.5848784110595293},{\"data0\":0.5581112021351576},{\"data0\":1.5740577836957932},{\"data0\":0.3991444613227462},{\"data0\":-0.6629678771281768},{\"data0\":-0.13719487813086775},{\"data0\":0.22887359086071943},{\"data0\":0.9973887967906631},{\"data0\":-0.5434251531435852},{\"data0\":-0.07141002162961321},{\"data0\":-0.20632754806572925},{\"data0\":0.05089353537121304},{\"data0\":0.03259534140255387},{\"data0\":0.856803142804655},{\"data0\":-0.08119500665924392},{\"data0\":-0.479183716343788},{\"data0\":-1.2258041372732018},{\"data0\":0.5920062838383477},{\"data0\":0.9276107196524473},{\"data0\":0.2589807264331813},{\"data0\":-0.001542347988125884},{\"data0\":0.5264447955377196},{\"data0\":0.4128766468425057},{\"data0\":-0.41937663886198717},{\"data0\":-0.2640241375050621},{\"data0\":-0.8621003532519061},{\"data0\":1.706138024548893},{\"data0\":-0.0959392649297944},{\"data0\":-0.6918716241052227},{\"data0\":-1.080469594636979},{\"data0\":1.1862372427569514},{\"data0\":2.3613840496106215},{\"data0\":0.23944593814071646},{\"data0\":1.212366959834889},{\"data0\":-0.19196151631119734},{\"data0\":1.1740711568369189},{\"data0\":0.6173840608461265},{\"data0\":0.5928502352650377},{\"data0\":0.11969889586039263},{\"data0\":3.437054416954624},{\"data0\":0.06713582801005422},{\"data0\":0.8709151676180585},{\"data0\":-0.9613504038477244},{\"data0\":0.06970974779075571},{\"data0\":-0.10179155181950254},{\"data0\":-0.4591592399994358},{\"data0\":-0.8425023922296281},{\"data0\":-0.8284649972511609},{\"data0\":-0.44527369474893186},{\"data0\":-0.1579336594256803},{\"data0\":-0.5012686605022224},{\"data0\":1.2687020235479811},{\"data0\":1.337217772594784},{\"data0\":0.01360945596474112},{\"data0\":-0.4949641289911848},{\"data0\":0.9701631153525624},{\"data0\":-0.31088113066222295},{\"data0\":1.2799094550885561},{\"data0\":0.17771994332748117},{\"data0\":-0.11489554689035072},{\"data0\":-1.037256248806246},{\"data0\":-0.40353655638681485},{\"data0\":0.8645432713141519},{\"data0\":-0.08464537321379255},{\"data0\":2.8233345690068377},{\"data0\":-0.9391002916374975},{\"data0\":-0.7932301404235625},{\"data0\":-0.03550692340449535},{\"data0\":0.1334471427945894},{\"data0\":0.17181821804216407},{\"data0\":1.052610145081112},{\"data0\":-1.656902123522447},{\"data0\":-0.061076053255160634},{\"data0\":-1.7718208007805192},{\"data0\":-1.376768902294683},{\"data0\":0.9084433245683992},{\"data0\":-0.6065788956322201},{\"data0\":-0.46195912426276337},{\"data0\":-1.3559139202970163},{\"data0\":0.13300026665541667},{\"data0\":0.8107820801784299},{\"data0\":-0.19123803308098145},{\"data0\":0.5333497473123139},{\"data0\":0.3001169177149594},{\"data0\":-1.483656860535278},{\"data0\":0.4906900914941526},{\"data0\":0.7375647929589915},{\"data0\":0.5904137376028148},{\"data0\":-0.3505888530116843},{\"data0\":-0.7334192892888264},{\"data0\":0.3578741364613988},{\"data0\":-0.9930818097309517},{\"data0\":0.44437081200203593},{\"data0\":0.03699190942863084},{\"data0\":-1.30669909103239},{\"data0\":1.327910994484369},{\"data0\":1.6246756198394625},{\"data0\":-1.37110220250886},{\"data0\":-0.4898461128953531},{\"data0\":0.9947947084404539},{\"data0\":-0.5546431973879513},{\"data0\":0.2851493975696074},{\"data0\":0.27426325741155244},{\"data0\":0.5647238348895997},{\"data0\":1.666264833240577},{\"data0\":-1.9079619683627145},{\"data0\":0.7558339995008773},{\"data0\":-1.9886582676633182},{\"data0\":-1.520006114673104},{\"data0\":1.6651437048673168},{\"data0\":0.2356374361060089},{\"data0\":1.6629850202699243},{\"data0\":1.3032755028358225},{\"data0\":-1.4527206523380858},{\"data0\":0.3504917631026137},{\"data0\":0.5521266138454048},{\"data0\":-0.0829313654220059},{\"data0\":-1.2735573169359542},{\"data0\":-0.8986839946438129},{\"data0\":0.30777226064567365},{\"data0\":-0.7539758228001028},{\"data0\":2.6889463441450134},{\"data0\":1.4733072568834549},{\"data0\":-0.14529935848914874},{\"data0\":0.1668296435188252},{\"data0\":0.08528988881914909},{\"data0\":0.434200064657629},{\"data0\":-0.3967389779045509},{\"data0\":0.8920982573933398},{\"data0\":0.04290025701211717},{\"data0\":-0.024668604796566147},{\"data0\":1.1400333592386673},{\"data0\":1.0810211636711673},{\"data0\":0.2589585239376436},{\"data0\":-0.1962230705613623},{\"data0\":-1.2406042008440012},{\"data0\":-0.8863778806986163},{\"data0\":-1.0349967686180972},{\"data0\":-1.1398382301144065},{\"data0\":-1.5320977790825367},{\"data0\":1.2544491434399792},{\"data0\":-1.445235909544652},{\"data0\":-0.5979886389412997},{\"data0\":0.859480224790874},{\"data0\":0.04889564193157405},{\"data0\":0.870329153611198},{\"data0\":-0.3902334394038185},{\"data0\":-2.059261582664559},{\"data0\":-1.6698115664381752},{\"data0\":0.6336157282210424},{\"data0\":2.578567626551402},{\"data0\":-2.0804958574122208},{\"data0\":-0.37133451151705943},{\"data0\":0.14569033487121552},{\"data0\":0.7980929495658431},{\"data0\":0.8671158187649342},{\"data0\":-0.7497287170843105},{\"data0\":2.023360898793498},{\"data0\":0.5238494323109473},{\"data0\":-0.6195462671906516},{\"data0\":1.7460740949743092},{\"data0\":-0.40212496225953503},{\"data0\":-0.7841498112771571},{\"data0\":1.1827361890107164},{\"data0\":0.7838732150565146},{\"data0\":-0.45809596580809214},{\"data0\":0.4039507898585843},{\"data0\":0.5048072897075332},{\"data0\":-0.2608100566644409},{\"data0\":-0.6023351665269707},{\"data0\":1.4314742653379389},{\"data0\":-0.9018360788200097},{\"data0\":-0.18232274139017882},{\"data0\":-0.417839541727033},{\"data0\":0.3146538419148817},{\"data0\":-2.331593561446619},{\"data0\":0.25671448568415856},{\"data0\":0.15281035712639643},{\"data0\":-1.640033873203365},{\"data0\":0.5309680140693056},{\"data0\":-0.18026805036386834},{\"data0\":-0.8436665094037709},{\"data0\":-0.9469093055107861},{\"data0\":-0.48436962091384156},{\"data0\":-0.4070870043565668},{\"data0\":1.9356580872683196},{\"data0\":-0.8740262526862886},{\"data0\":0.5996356370894896},{\"data0\":0.22469646214988867},{\"data0\":1.1551794285276422},{\"data0\":0.5395469924606338},{\"data0\":-0.023546062418838144},{\"data0\":0.8550674232540308},{\"data0\":0.16326116531125393},{\"data0\":2.2101394284817992},{\"data0\":-0.3751698862115913},{\"data0\":-0.16707234967064255},{\"data0\":-1.0289927235216572},{\"data0\":0.467864508759737},{\"data0\":0.9114720968822666},{\"data0\":1.526435062917601},{\"data0\":0.25793523143968744},{\"data0\":-0.907100431800887},{\"data0\":2.220566185040431},{\"data0\":0.30174536906345245},{\"data0\":0.4397683986066053},{\"data0\":1.5809711553262262},{\"data0\":0.6968481947663109},{\"data0\":1.2333093654440224},{\"data0\":-0.051759768827923755},{\"data0\":-1.9220577319084804},{\"data0\":-0.11711403147308275},{\"data0\":0.5697426530283087},{\"data0\":0.9563255836917197},{\"data0\":-0.49869137715794715},{\"data0\":-0.04534935622304471},{\"data0\":-0.5484335035910013},{\"data0\":1.8501733011102475},{\"data0\":-1.7398013556840013},{\"data0\":0.548807926284094},{\"data0\":-1.0069361702073198},{\"data0\":-1.171573184142204},{\"data0\":-0.8351080166214675},{\"data0\":-0.052763425718435224},{\"data0\":-0.8216895237360469},{\"data0\":-0.518101676553295},{\"data0\":-1.9445141878582337},{\"data0\":-1.5900118816736466},{\"data0\":0.29230479351678895},{\"data0\":1.4083812274120175},{\"data0\":-0.30436143616785527},{\"data0\":-0.19339640695095112},{\"data0\":-0.29900760779627905},{\"data0\":-1.608385557491432},{\"data0\":0.06666487284919685},{\"data0\":0.2026227335052351},{\"data0\":0.1618265932440668},{\"data0\":-0.18232379117230085},{\"data0\":0.035786898013493225},{\"data0\":1.0135296752627008},{\"data0\":0.0498710293260968},{\"data0\":0.3404670642204141},{\"data0\":-1.1531756279874943},{\"data0\":-0.6517164545420956},{\"data0\":0.40588283913167367},{\"data0\":0.7267531718340838},{\"data0\":-0.2657610206794656},{\"data0\":-2.4760122816904215},{\"data0\":-0.4107939936520137},{\"data0\":-0.21650724593916496},{\"data0\":1.1539861127921842},{\"data0\":0.25632801601700217},{\"data0\":0.49452919388792965},{\"data0\":0.2247917408544763},{\"data0\":0.9708651153963554},{\"data0\":1.0592927912967658},{\"data0\":-0.5623500787814236},{\"data0\":1.4180365861384334},{\"data0\":0.05602784178207554},{\"data0\":0.7526071998336851},{\"data0\":0.2657355379638327},{\"data0\":-2.426445953635939},{\"data0\":-0.6018941897061936},{\"data0\":-1.398206526624877},{\"data0\":0.28296289775588707},{\"data0\":-1.153652306447549},{\"data0\":-1.8962174656730946},{\"data0\":0.011238634845362519},{\"data0\":0.7793946740594949},{\"data0\":-0.6399422262710449},{\"data0\":-2.1335431284638617},{\"data0\":1.159152389008015},{\"data0\":-0.43002930371433074},{\"data0\":0.9830635118423741},{\"data0\":-0.03817386960424021},{\"data0\":-0.08377974113114106},{\"data0\":-0.06531306091108478},{\"data0\":0.18702996127503513},{\"data0\":-1.4014696483389566},{\"data0\":1.356771952577436},{\"data0\":-0.03486461363931347},{\"data0\":0.25910932297369393},{\"data0\":0.4369680267168515},{\"data0\":-1.6161469403740094},{\"data0\":-0.2994954475411566},{\"data0\":0.576591619007417},{\"data0\":-0.949526011840207},{\"data0\":1.0849043746807447},{\"data0\":-1.9444204732946406},{\"data0\":0.39268155410296457},{\"data0\":0.952369548997052},{\"data0\":-0.04537347185749055},{\"data0\":-0.5436742517955035},{\"data0\":1.2003869845232613},{\"data0\":-1.4551353392950237},{\"data0\":-0.8680798885317594},{\"data0\":1.5528831261996943},{\"data0\":1.2954966104943884},{\"data0\":2.135410678831693},{\"data0\":0.797137216487991},{\"data0\":-1.9558088394594877},{\"data0\":-0.5953158480681962},{\"data0\":0.2684946941967884},{\"data0\":1.548397300854363},{\"data0\":0.0041929197660213625},{\"data0\":1.2948755145963127},{\"data0\":1.5181155873707985},{\"data0\":0.8323169709810252},{\"data0\":-0.2838732863424749},{\"data0\":-1.7341880931390945},{\"data0\":-0.753888636056858},{\"data0\":0.6928045695158259},{\"data0\":0.5114737871540639},{\"data0\":-0.9618556868276733},{\"data0\":-0.2442712466928068},{\"data0\":0.6908851463354326},{\"data0\":0.30663866167410425},{\"data0\":-1.0871372199269758},{\"data0\":-1.5515310732007155},{\"data0\":-0.1419233891187357},{\"data0\":-0.9071117290530846},{\"data0\":1.0879319588855765},{\"data0\":-0.8741917343010978},{\"data0\":-0.346365516093282},{\"data0\":-0.2595561050794102},{\"data0\":-1.285106661674217},{\"data0\":-0.7269562387976882},{\"data0\":0.9296330791291669},{\"data0\":1.3277222107470548},{\"data0\":0.5571498096490107},{\"data0\":1.005708662403718},{\"data0\":-0.5159923943078978},{\"data0\":-0.26135754877912376},{\"data0\":-0.3134456452200937},{\"data0\":-0.6429299521961602},{\"data0\":-0.6150909903049108},{\"data0\":-0.028396562531285648},{\"data0\":-1.8297253108473281},{\"data0\":-1.4433717262482317},{\"data0\":-0.3873617410352513},{\"data0\":-0.7444243294565653},{\"data0\":-1.615803524563949},{\"data0\":-0.8071958253738403},{\"data0\":-1.519427704181443},{\"data0\":2.77117210027527},{\"data0\":0.2857638272959798},{\"data0\":1.2284081518482497},{\"data0\":-1.5143140483938706},{\"data0\":-0.6983312843527261},{\"data0\":0.8716276984554392},{\"data0\":0.22623583769115796},{\"data0\":-0.301880862001522},{\"data0\":-0.14281614905645534},{\"data0\":1.097604453226843},{\"data0\":0.6358711454336997},{\"data0\":1.0669768813861882},{\"data0\":0.7111075113553809},{\"data0\":0.2011514606731982},{\"data0\":0.13350532386423578},{\"data0\":-1.6485257135648321},{\"data0\":-0.4642244005503914},{\"data0\":-0.5457678167008623},{\"data0\":0.8153922335652465},{\"data0\":0.31699084436943203},{\"data0\":-1.2744916928007515},{\"data0\":0.040204856362505904},{\"data0\":0.9187528583927453},{\"data0\":0.04030189492570621},{\"data0\":-0.8698695683437753},{\"data0\":1.2063325451167541},{\"data0\":-0.9338836497767949},{\"data0\":-0.028608028823311864},{\"data0\":-0.39213254386863367},{\"data0\":0.2336640200048327},{\"data0\":-1.2457024779664225},{\"data0\":0.2772091979500092},{\"data0\":-1.0934220488617303},{\"data0\":-0.2103167164259389},{\"data0\":0.8060322221585299},{\"data0\":-0.5539558155060833},{\"data0\":-0.24960311798385573},{\"data0\":-0.5530489654945753},{\"data0\":-0.6764578902691405},{\"data0\":-0.49072496558731543},{\"data0\":0.22259963477384498},{\"data0\":-0.8651835288808746},{\"data0\":-0.3212970735497158},{\"data0\":1.6950919421528832},{\"data0\":-0.24445374849043752},{\"data0\":-0.04472827803250385},{\"data0\":0.16750629177047094},{\"data0\":1.0682090947143585},{\"data0\":1.0971927371492514},{\"data0\":-0.6472150852169456},{\"data0\":0.8848039589995863},{\"data0\":0.07801019030535765},{\"data0\":0.2071535736411413},{\"data0\":-0.3051309648609917},{\"data0\":-0.8501085842009518},{\"data0\":0.4401863236179221},{\"data0\":-0.9486670161449504},{\"data0\":1.2801361790989618},{\"data0\":-0.5280428566915898},{\"data0\":0.34389457627881453},{\"data0\":-0.39125632503891905},{\"data0\":0.5882443667002838},{\"data0\":-0.057883042707691054},{\"data0\":-0.652992370093729},{\"data0\":0.1645902789157507},{\"data0\":-0.28576234616054086},{\"data0\":0.8233804212334002},{\"data0\":0.8696449487753507},{\"data0\":1.4662502825092771},{\"data0\":-0.31006350094740165},{\"data0\":-0.278041283130653},{\"data0\":-0.7427604512520559},{\"data0\":-1.082303941851047},{\"data0\":1.8324556472623847},{\"data0\":-0.39775215272363346},{\"data0\":0.23559333837794944},{\"data0\":-0.46406435568663823},{\"data0\":-0.10569070878081266},{\"data0\":0.3703497072846736},{\"data0\":0.7391353063027234},{\"data0\":0.10745451817096338},{\"data0\":-1.2359599904110294},{\"data0\":0.06244853551572529},{\"data0\":0.2581922008179865},{\"data0\":-0.7930938804590192},{\"data0\":-1.0464752414465217},{\"data0\":-0.4091025584449287},{\"data0\":0.5626324692284961},{\"data0\":-0.022767467953608955},{\"data0\":-0.604336143486954},{\"data0\":-0.949249458607285},{\"data0\":0.07329141104920507},{\"data0\":-1.8010899058256615},{\"data0\":-1.3140451549909393},{\"data0\":-0.471227734889502},{\"data0\":0.23817406741893996},{\"data0\":0.9962344400384037},{\"data0\":-0.4927827516120758},{\"data0\":1.1566152946017036},{\"data0\":-0.39617281072003613},{\"data0\":-2.118102553483117},{\"data0\":-0.7631687394950756},{\"data0\":-0.6528256006791763},{\"data0\":0.11570509985234473},{\"data0\":1.4497853525914286},{\"data0\":-0.5260457598971926},{\"data0\":-0.7201722760777455},{\"data0\":-0.18621138080264618},{\"data0\":0.6669948066560734},{\"data0\":-1.3831110149999772},{\"data0\":-1.3846027599761368},{\"data0\":-0.7302004096685345},{\"data0\":0.8591208075172443},{\"data0\":0.9234538938592841},{\"data0\":-0.35923507408451233},{\"data0\":0.3263401159204947},{\"data0\":-2.5544071751803945},{\"data0\":-0.24960606838883467},{\"data0\":-1.0062023017405621},{\"data0\":-1.8152657702802932},{\"data0\":0.9481401970951201},{\"data0\":0.04893162831466697},{\"data0\":0.6006176676462145},{\"data0\":-1.0027291826756042},{\"data0\":-0.2732976461737541},{\"data0\":0.6999991759506994},{\"data0\":1.7284112918434495},{\"data0\":-0.9477959607540586},{\"data0\":0.47484682409667184},{\"data0\":-1.499398315867696},{\"data0\":1.0024448655255644},{\"data0\":-0.25331663290572076},{\"data0\":-0.9798013701859455},{\"data0\":-0.10620472771896754},{\"data0\":2.0616266360647812},{\"data0\":-1.586358855687875},{\"data0\":0.9975405070937319},{\"data0\":-0.4339637652280236},{\"data0\":0.9403169958893276},{\"data0\":-0.5813704902764277},{\"data0\":1.2245852945720903},{\"data0\":0.07791678389835441},{\"data0\":0.9378043406351674},{\"data0\":2.926542352686817},{\"data0\":1.565710669542112},{\"data0\":-1.6290013971206665},{\"data0\":1.0665543589883297},{\"data0\":1.326491617809359},{\"data0\":0.01952619522378079},{\"data0\":0.3565883028602098},{\"data0\":-2.4414903349943295},{\"data0\":0.5896615216954637},{\"data0\":-0.9003956583395236},{\"data0\":0.2805966968220437},{\"data0\":0.18100520244123247},{\"data0\":0.17281698950880298},{\"data0\":-0.39621968671088076},{\"data0\":0.27048213345748917},{\"data0\":-0.5780324878798003},{\"data0\":-0.6334232704814606},{\"data0\":2.4775516818422},{\"data0\":0.02972223278679584},{\"data0\":0.7978603922969161},{\"data0\":-0.3977018170275992},{\"data0\":0.37045697372835706},{\"data0\":-0.2454375680183823},{\"data0\":-1.279225397537916},{\"data0\":0.28039821835122547},{\"data0\":-0.6916900677689011},{\"data0\":-0.9740983594824872},{\"data0\":2.015202654769262},{\"data0\":0.2589611997199272},{\"data0\":-0.11797464663989427},{\"data0\":0.42686165827304834},{\"data0\":0.7695830218029845},{\"data0\":0.05114437438411491},{\"data0\":0.6307498942831711},{\"data0\":0.7433601586748348},{\"data0\":0.7099654059463829},{\"data0\":1.1225138526482432},{\"data0\":-0.30403795909609777},{\"data0\":0.789631438370321},{\"data0\":1.6054840209325825},{\"data0\":1.7470358548360614},{\"data0\":0.9223917837807726},{\"data0\":0.9921840595515894},{\"data0\":0.4232800705968505},{\"data0\":-0.4198393901740931},{\"data0\":-0.40570923811346127},{\"data0\":-0.018273275934128065},{\"data0\":0.6405404228786851},{\"data0\":-0.0149433832554963},{\"data0\":-1.2773442636720707},{\"data0\":-0.44500065594179344},{\"data0\":0.5313089482344717},{\"data0\":-0.01418742853408277},{\"data0\":-0.5979115118653429},{\"data0\":-0.7407315273757885},{\"data0\":-0.6452306944676826},{\"data0\":-0.9558918809735886},{\"data0\":-0.048013047656646685},{\"data0\":-1.0851062459828904},{\"data0\":0.7514754869391671},{\"data0\":-0.31023759882449065},{\"data0\":0.8402923907342249},{\"data0\":0.7507286107401009},{\"data0\":-1.4433347267678314},{\"data0\":1.5421351579469587},{\"data0\":-2.3055964919855456},{\"data0\":-0.3427800264050896},{\"data0\":-0.7530619318596944},{\"data0\":-2.598231588545763},{\"data0\":0.9680890452668282},{\"data0\":-1.9477471076530193},{\"data0\":0.40676515134904556},{\"data0\":-1.6253608904588648},{\"data0\":0.40253959639655973},{\"data0\":-0.49130320126995664},{\"data0\":-2.378082512796864},{\"data0\":-0.28985091114536926},{\"data0\":-0.0820663686662243},{\"data0\":-0.6217644269807843},{\"data0\":-1.097069883529735},{\"data0\":-0.12978388190765733},{\"data0\":0.65867316937774},{\"data0\":1.458913941770042},{\"data0\":-1.1057335913811803},{\"data0\":-0.1143125948002598},{\"data0\":1.4266697125596268},{\"data0\":0.6282741351072091},{\"data0\":0.669183233260587},{\"data0\":-0.30414779898179706},{\"data0\":-1.1643566594211454},{\"data0\":0.5940090417890374},{\"data0\":-0.3871508562645742},{\"data0\":0.13563647355567596},{\"data0\":1.1795695531383503},{\"data0\":0.29558356795375396},{\"data0\":1.83178655876472},{\"data0\":1.5918208476033335},{\"data0\":2.8982713918305136},{\"data0\":0.8458910315878626},{\"data0\":0.20561312239414345},{\"data0\":0.5712793231695531},{\"data0\":-1.8706411438031818},{\"data0\":-1.093030994652709},{\"data0\":1.639174811598941},{\"data0\":0.4425840206053012},{\"data0\":0.015102965351526249},{\"data0\":-1.3468372012979406},{\"data0\":0.17220711097901117},{\"data0\":-0.473300281113008},{\"data0\":1.3722216708793211},{\"data0\":-0.9349142042355278},{\"data0\":2.081041560265276},{\"data0\":-0.8778337623006095},{\"data0\":-0.5746780890164248},{\"data0\":0.6873692705799294},{\"data0\":-0.3294888407986249},{\"data0\":0.6103338831163257},{\"data0\":-1.2300769685302315},{\"data0\":-0.23466383089602064},{\"data0\":1.0739753476685052},{\"data0\":-1.3320118410906305},{\"data0\":-0.9657292951206322},{\"data0\":-0.16368482125840306},{\"data0\":0.8979320068091265},{\"data0\":-2.1850214469688134},{\"data0\":0.5758540539757098},{\"data0\":0.35010781260709145},{\"data0\":-0.25341244042988986},{\"data0\":-1.8055875073049492},{\"data0\":-1.5303251616403466},{\"data0\":-1.1281110802967815},{\"data0\":-0.48360887244802186},{\"data0\":-0.8435028778535358},{\"data0\":-1.5706336911339982},{\"data0\":-1.2516693485692763},{\"data0\":0.20219821085713627},{\"data0\":-0.844079464376184},{\"data0\":-1.411423078131618},{\"data0\":-1.1744351930731263},{\"data0\":0.7538431004143769},{\"data0\":0.9635770987498251},{\"data0\":-0.16850777985440107},{\"data0\":0.31499572124743713},{\"data0\":1.0769260382454404},{\"data0\":-0.5370213980212664},{\"data0\":-1.5196870026732496},{\"data0\":1.76140250458868},{\"data0\":0.4574451369134637},{\"data0\":0.07135192768493194},{\"data0\":1.605152092096413},{\"data0\":-1.0606651195922043},{\"data0\":0.3649117501336826},{\"data0\":0.14385841597818405},{\"data0\":1.6361319948324984},{\"data0\":1.9851996915091363},{\"data0\":-1.4056905465504734},{\"data0\":-0.12851804964018154},{\"data0\":0.46375208263231343},{\"data0\":-1.3851928377425338},{\"data0\":0.21750514518257874},{\"data0\":-0.2855015495053066},{\"data0\":0.4665754422459242},{\"data0\":0.9802855066615257},{\"data0\":1.5673985261769086},{\"data0\":0.4844122531109537},{\"data0\":0.524030496853427},{\"data0\":0.9809055434571379},{\"data0\":-0.4886940794506829},{\"data0\":-1.1850129982441033},{\"data0\":-1.263409427374991},{\"data0\":1.5663975540633857},{\"data0\":-0.8906151427309368},{\"data0\":-0.275143832192769},{\"data0\":0.2685347665176193},{\"data0\":-0.631022526238711},{\"data0\":-2.3761184833759397},{\"data0\":1.166919921300691},{\"data0\":-0.03412296662413122},{\"data0\":-1.770746791687329},{\"data0\":-0.3302334166993193},{\"data0\":1.651155738319205},{\"data0\":-0.670551303342097},{\"data0\":0.10625692630802232},{\"data0\":0.1631022537133168},{\"data0\":-0.41668966503097776},{\"data0\":1.0166108768427184},{\"data0\":-0.6698694462450048},{\"data0\":-1.7962984819812777},{\"data0\":-2.1706822604742078},{\"data0\":0.7836018829779918},{\"data0\":0.12112103357117869},{\"data0\":0.5513462840398725},{\"data0\":0.2548039175720171},{\"data0\":0.30228567245715965},{\"data0\":0.14028540050577132},{\"data0\":-0.5764027284653891},{\"data0\":0.4048419732802101},{\"data0\":-0.16017570071601073},{\"data0\":0.22938542627539985},{\"data0\":-2.105121566651593},{\"data0\":1.5640419336143478},{\"data0\":-2.3223547081820484},{\"data0\":-0.6940812700537181},{\"data0\":-0.885740117247445},{\"data0\":-0.3634956476549191},{\"data0\":1.678862114563666},{\"data0\":1.545555750628525},{\"data0\":-3.114189561411111},{\"data0\":-0.7246746505959665},{\"data0\":-0.016838775883950188},{\"data0\":1.0594423539021638},{\"data0\":1.0248373232163819},{\"data0\":1.141862898052077},{\"data0\":-0.47115091370617534},{\"data0\":-0.16937791100293528},{\"data0\":0.9568717038670579},{\"data0\":0.8077652249073881},{\"data0\":-0.3596733621750945},{\"data0\":0.4123418204220369},{\"data0\":0.8510274252890163},{\"data0\":-0.2686573458342854},{\"data0\":0.7363875900336859},{\"data0\":1.2510930336905974},{\"data0\":-0.23151254576307875},{\"data0\":2.135864406073907},{\"data0\":-0.44008256501915827},{\"data0\":-0.4410203955818302},{\"data0\":0.24739894980750016},{\"data0\":0.5514598196825486},{\"data0\":0.427363060731308},{\"data0\":0.9704337114977686},{\"data0\":-2.334162831435256},{\"data0\":0.14188820327409998},{\"data0\":0.8376487500192369},{\"data0\":-1.6381817587364889},{\"data0\":0.22280029733756979},{\"data0\":-1.150052343139099},{\"data0\":1.3489393869797903},{\"data0\":1.9942428863793809},{\"data0\":0.4393356925349777},{\"data0\":-1.2610453656325404},{\"data0\":-2.0065391888393562},{\"data0\":0.8673716505302496},{\"data0\":-0.2782341759715746},{\"data0\":-0.3192181998553506},{\"data0\":1.6595870000266317},{\"data0\":-0.7723932190601216},{\"data0\":1.7745734764925207},{\"data0\":-0.09446974208250536},{\"data0\":0.25530732098364856},{\"data0\":-0.011169286020966944},{\"data0\":-0.16168782285853783},{\"data0\":0.4428087022189128},{\"data0\":0.7434301609680171},{\"data0\":-0.24663911370073896},{\"data0\":-0.44075324471717003},{\"data0\":-0.8056888448431275},{\"data0\":0.7970907649320643},{\"data0\":2.0047069122569385},{\"data0\":1.1704625562277269},{\"data0\":0.15275308222492498},{\"data0\":0.028457173782647664},{\"data0\":-1.4382358249866014},{\"data0\":0.01301459186194205},{\"data0\":1.2471617346897304},{\"data0\":-0.8009588105125466},{\"data0\":0.08655850978144236},{\"data0\":-0.8725852237252995},{\"data0\":-0.8662621871769489},{\"data0\":0.33470279514183304},{\"data0\":0.7869591248427225},{\"data0\":-1.4647096768719086},{\"data0\":-0.90222437034818},{\"data0\":-1.7509364553867413},{\"data0\":-0.9874591438672007},{\"data0\":0.3072855634140447},{\"data0\":-0.9069268964404542},{\"data0\":-0.49884543902639855},{\"data0\":-0.5797059949842709},{\"data0\":-1.4436456044886865},{\"data0\":0.8272812149582742},{\"data0\":-0.050150958852024266},{\"data0\":-0.4807609136650116},{\"data0\":0.9155336310485866},{\"data0\":0.43105779005153866},{\"data0\":-1.0930928899870225},{\"data0\":0.12583230277948662},{\"data0\":-1.5230678703176368},{\"data0\":-1.1940039667395341},{\"data0\":0.3289027619363909},{\"data0\":0.7994981133090855},{\"data0\":1.92173754121147},{\"data0\":0.7768589228257041},{\"data0\":0.560942179067719},{\"data0\":-1.898759557745733},{\"data0\":-0.6633957586723558},{\"data0\":0.1807372050995696},{\"data0\":0.44753971271009935},{\"data0\":0.160782189030381},{\"data0\":0.5210383055248933},{\"data0\":-0.39587020531140366},{\"data0\":-0.9233476235917012},{\"data0\":0.3503660330872658},{\"data0\":-0.5680379549069269},{\"data0\":-0.3159592462029931},{\"data0\":-1.5408060215596178},{\"data0\":-1.8736857350250267},{\"data0\":0.07989199923649155},{\"data0\":0.136617717495062},{\"data0\":0.8308312755831617},{\"data0\":-3.4631664245354132},{\"data0\":0.8054660443799194},{\"data0\":0.6548750814139442},{\"data0\":-0.056507925128140235},{\"data0\":0.7650145242680843},{\"data0\":0.1741085269462138},{\"data0\":-0.09980042481670508},{\"data0\":-1.124802927447221},{\"data0\":0.8206378994824293},{\"data0\":-1.8768186953121713},{\"data0\":-1.0503924653229555},{\"data0\":0.9972116929461069},{\"data0\":-1.0042259514443181},{\"data0\":1.4367530453574222},{\"data0\":0.3869971022870985},{\"data0\":-0.7211068513908725},{\"data0\":-0.0788580671062186},{\"data0\":0.8083364555687854},{\"data0\":-0.5845827995007615},{\"data0\":0.8380932006104213},{\"data0\":-0.867614152915725},{\"data0\":0.11190580172314672},{\"data0\":0.5885347885149802},{\"data0\":-0.453150507111142},{\"data0\":1.2042459425630836},{\"data0\":2.148955444198871},{\"data0\":-0.3299204855082038},{\"data0\":0.14701978860003242},{\"data0\":-0.10244259491631706},{\"data0\":0.7632787173942162},{\"data0\":0.3001120043077041},{\"data0\":-0.4328574208106585},{\"data0\":1.6942851155505758},{\"data0\":-1.5448764730709317},{\"data0\":1.681991098873781},{\"data0\":-1.6139387477613616},{\"data0\":-0.42653392625871517},{\"data0\":-0.043692946454711334},{\"data0\":0.6566555110609067},{\"data0\":-0.32454689851034546},{\"data0\":1.3993785758698831},{\"data0\":-0.42292036708489855},{\"data0\":1.4141360035607164},{\"data0\":1.3140030480014038},{\"data0\":0.20744359673058044},{\"data0\":-0.7051731961899789},{\"data0\":0.1081855351133093},{\"data0\":-0.03040277673650614},{\"data0\":1.21897701798797},{\"data0\":1.1288356259991843},{\"data0\":3.0280443798238488},{\"data0\":-0.3034633093052677},{\"data0\":-0.7295326911801837},{\"data0\":-0.43076607544661605},{\"data0\":0.7495933773421262},{\"data0\":-0.13006803244215404},{\"data0\":0.7299425368728332},{\"data0\":-0.8433021719291246},{\"data0\":-2.4682572362854844},{\"data0\":-1.1085603776945476},{\"data0\":-0.5350002050282421},{\"data0\":-0.13446889965178196},{\"data0\":0.7611419542234137},{\"data0\":-0.05311310260565835},{\"data0\":2.2562591052288794},{\"data0\":1.4621838505062557},{\"data0\":0.5232230468732708},{\"data0\":0.7964320704708802},{\"data0\":-0.07956583368079342},{\"data0\":0.15278277341426477},{\"data0\":-1.082676791266333},{\"data0\":0.2938879123667068},{\"data0\":-1.3767464006304806},{\"data0\":1.030227449451043},{\"data0\":-0.7408473967065715},{\"data0\":-0.615469607144205},{\"data0\":-1.3472360502812961},{\"data0\":1.8097808162263942},{\"data0\":-0.309824151463349},{\"data0\":-0.6302336593486176},{\"data0\":-0.26352248770832304},{\"data0\":-0.11068806883826882},{\"data0\":-0.29171753705712233},{\"data0\":0.7713264308941065},{\"data0\":0.2485640565950114},{\"data0\":-0.8973807863006242},{\"data0\":0.5023152115295798},{\"data0\":0.7267182069630906},{\"data0\":-0.4715705686388069},{\"data0\":-0.20728943945045292},{\"data0\":1.6399533260020167},{\"data0\":0.34148701664042125},{\"data0\":1.1995172268721466},{\"data0\":0.9164764445443557},{\"data0\":-0.6555769203929798},{\"data0\":-0.6803703985805274},{\"data0\":0.7229886188748728},{\"data0\":0.6568533912199508},{\"data0\":0.3622387810068463},{\"data0\":0.10716197215739884},{\"data0\":-2.0116948872514695},{\"data0\":-0.7535181931313952},{\"data0\":0.5319385042738799},{\"data0\":1.24652370983531},{\"data0\":-1.2759991621075286},{\"data0\":-1.6077027493915979},{\"data0\":-0.8220518109478105},{\"data0\":0.5442778217929792},{\"data0\":-0.26460504403344537},{\"data0\":0.2422409193475964},{\"data0\":-1.9867798116654727},{\"data0\":1.117447175513523},{\"data0\":1.306329568838063},{\"data0\":-0.41941403219781265},{\"data0\":-1.0844449090238168},{\"data0\":2.189682038120933},{\"data0\":-0.38041479753697266},{\"data0\":0.5484439875701367},{\"data0\":0.513141748591183},{\"data0\":-1.962477309221269},{\"data0\":1.9286223386834491},{\"data0\":-0.16332173109656417},{\"data0\":0.08323125429486479},{\"data0\":0.7836722081358065},{\"data0\":-1.0705877135203103},{\"data0\":-2.1644843522342203},{\"data0\":1.495809661725826},{\"data0\":2.602987502828558},{\"data0\":0.7037886704405751},{\"data0\":-1.4104319799580785},{\"data0\":0.5548500393678648},{\"data0\":-2.435872024706189},{\"data0\":0.5428670428437018},{\"data0\":0.6278080140540777},{\"data0\":0.18125689695049976},{\"data0\":-1.2078537880165547},{\"data0\":0.9930382809641742},{\"data0\":-0.47056531903222154},{\"data0\":-0.8395014105326135},{\"data0\":-0.6520386606517546}]},\"extension\":[]}\n",
       "        var id_name = '#vis-21785a20-9845-443e-929d-f3b479f5fb42';\n",
       "        Nyaplot.core.parse(model, id_name);\n",
       "\n",
       "        require(['downloadable'], function(downloadable){\n",
       "          var svg = d3.select(id_name).select(\"svg\");\n",
       "\t  if(!svg.empty())\n",
       "\t    svg.call(downloadable().filename('fig'));\n",
       "\t});\n",
       "    };\n",
       "    if(window['Nyaplot']==undefined){\n",
       "        window.addEventListener('load_nyaplot', render, false);\n",
       "\treturn;\n",
       "    } else {\n",
       "       render();\n",
       "    }\n",
       "})();\n",
       "</script>\n"
      ],
      "text/plain": [
       "#<Nyaplot::Frame:0x96c8cf8 @properties={:panes=>[#<Nyaplot::Plot:0x9762344 @properties={:diagrams=>[#<Nyaplot::Diagram:0x96c98c4 @properties={:type=>:histogram, :options=>{:value=>\"data0\"}, :data=>\"f4a4ce94-cf94-4f1c-a2a6-e7aa80bfce12\"}, @xrange=[-3.4631664245354132, 3.437054416954624], @yrange=[0, 1000]>], :options=>{:yrange=>[0, 200], :y_label=>\"Frequency\", :x_label=>\"Bins\", :width=>700, :xrange=>[-3.4631664245354132, 3.437054416954624]}}>], :data=>{\"f4a4ce94-cf94-4f1c-a2a6-e7aa80bfce12\"=>#<Nyaplot::DataFrame:0x9761f98 @name=\"f4a4ce94-cf94-4f1c-a2a6-e7aa80bfce12\", @rows=[{:data0=>0.4621664215786019}, {:data0=>-0.46206333864036186}, {:data0=>0.47467110231354764}, {:data0=>-1.8242706826494632}, {:data0=>-0.22177748988523793}, {:data0=>-0.7564569417488423}, {:data0=>-0.44358456539470287}, {:data0=>0.20996149958633464}, {:data0=>-0.42688480266840717}, {:data0=>0.702417757128165}, {:data0=>-0.3222955735427263}, {:data0=>1.5917904972648844}, {:data0=>1.5065358736155408}, {:data0=>-2.099800156834334}, {:data0=>1.6893707030254825}, {:data0=>-1.843972582982121}, {:data0=>0.03990649912942349}, {:data0=>0.22404146213785756}, {:data0=>-0.26031984719956636}, {:data0=>-0.6903113727852005}, {:data0=>-0.06140785334992235}, {:data0=>1.4247123170866773}, {:data0=>0.17839767196219344}, {:data0=>0.9050103842262208}, {:data0=>0.8523801727842224}, {:data0=>0.7428562140881977}, {:data0=>-0.17767492462807352}, {:data0=>0.4121416478260522}, {:data0=>0.2834459165234966}, {:data0=>0.010054500795617954}, {:data0=>-1.1594731677753725}, {:data0=>1.17756906185406}, {:data0=>-0.6804002466593556}, {:data0=>-1.5535019386807774}, {:data0=>-1.3520961187529206}, {:data0=>-0.531102728096948}, {:data0=>2.1350108424009817}, {:data0=>-0.7219426857522249}, {:data0=>0.4380666380184998}, {:data0=>0.20367518189946698}, {:data0=>1.3699560082246716}, {:data0=>1.4762469695839768}, {:data0=>0.21484664209851825}, {:data0=>-0.7656260435204847}, {:data0=>-1.3507064958773398}, {:data0=>0.511075940773652}, {:data0=>-0.13786963563293445}, {:data0=>-0.41860883819579525}, {:data0=>0.782261917748716}, {:data0=>1.2682297015478585}, {:data0=>0.6511095540364501}, {:data0=>-0.4703996147223955}, {:data0=>-0.1614144785503104}, {:data0=>-1.010321096171269}, {:data0=>-0.9501371662697473}, {:data0=>-0.3794819281136866}, {:data0=>1.5484434811327674}, {:data0=>0.07743788043150823}, {:data0=>0.008023365029069973}, {:data0=>-1.2264749432472002}, {:data0=>0.7416637205889208}, {:data0=>-0.2852375287644994}, {:data0=>0.1997950381755827}, {:data0=>0.5848784110595293}, {:data0=>0.5581112021351576}, {:data0=>1.5740577836957932}, {:data0=>0.3991444613227462}, {:data0=>-0.6629678771281768}, {:data0=>-0.13719487813086775}, {:data0=>0.22887359086071943}, {:data0=>0.9973887967906631}, {:data0=>-0.5434251531435852}, {:data0=>-0.07141002162961321}, {:data0=>-0.20632754806572925}, {:data0=>0.05089353537121304}, {:data0=>0.03259534140255387}, {:data0=>0.856803142804655}, {:data0=>-0.08119500665924392}, {:data0=>-0.479183716343788}, {:data0=>-1.2258041372732018}, {:data0=>0.5920062838383477}, {:data0=>0.9276107196524473}, {:data0=>0.2589807264331813}, {:data0=>-0.001542347988125884}, {:data0=>0.5264447955377196}, {:data0=>0.4128766468425057}, {:data0=>-0.41937663886198717}, {:data0=>-0.2640241375050621}, {:data0=>-0.8621003532519061}, {:data0=>1.706138024548893}, {:data0=>-0.0959392649297944}, {:data0=>-0.6918716241052227}, {:data0=>-1.080469594636979}, {:data0=>1.1862372427569514}, {:data0=>2.3613840496106215}, {:data0=>0.23944593814071646}, {:data0=>1.212366959834889}, {:data0=>-0.19196151631119734}, {:data0=>1.1740711568369189}, {:data0=>0.6173840608461265}, {:data0=>0.5928502352650377}, {:data0=>0.11969889586039263}, {:data0=>3.437054416954624}, {:data0=>0.06713582801005422}, {:data0=>0.8709151676180585}, {:data0=>-0.9613504038477244}, {:data0=>0.06970974779075571}, {:data0=>-0.10179155181950254}, {:data0=>-0.4591592399994358}, {:data0=>-0.8425023922296281}, {:data0=>-0.8284649972511609}, {:data0=>-0.44527369474893186}, {:data0=>-0.1579336594256803}, {:data0=>-0.5012686605022224}, {:data0=>1.2687020235479811}, {:data0=>1.337217772594784}, {:data0=>0.01360945596474112}, {:data0=>-0.4949641289911848}, {:data0=>0.9701631153525624}, {:data0=>-0.31088113066222295}, {:data0=>1.2799094550885561}, {:data0=>0.17771994332748117}, {:data0=>-0.11489554689035072}, {:data0=>-1.037256248806246}, {:data0=>-0.40353655638681485}, {:data0=>0.8645432713141519}, {:data0=>-0.08464537321379255}, {:data0=>2.8233345690068377}, {:data0=>-0.9391002916374975}, {:data0=>-0.7932301404235625}, {:data0=>-0.03550692340449535}, {:data0=>0.1334471427945894}, {:data0=>0.17181821804216407}, {:data0=>1.052610145081112}, {:data0=>-1.656902123522447}, {:data0=>-0.061076053255160634}, {:data0=>-1.7718208007805192}, {:data0=>-1.376768902294683}, {:data0=>0.9084433245683992}, {:data0=>-0.6065788956322201}, {:data0=>-0.46195912426276337}, {:data0=>-1.3559139202970163}, {:data0=>0.13300026665541667}, {:data0=>0.8107820801784299}, {:data0=>-0.19123803308098145}, {:data0=>0.5333497473123139}, {:data0=>0.3001169177149594}, {:data0=>-1.483656860535278}, {:data0=>0.4906900914941526}, {:data0=>0.7375647929589915}, {:data0=>0.5904137376028148}, {:data0=>-0.3505888530116843}, {:data0=>-0.7334192892888264}, {:data0=>0.3578741364613988}, {:data0=>-0.9930818097309517}, {:data0=>0.44437081200203593}, {:data0=>0.03699190942863084}, {:data0=>-1.30669909103239}, {:data0=>1.327910994484369}, {:data0=>1.6246756198394625}, {:data0=>-1.37110220250886}, {:data0=>-0.4898461128953531}, {:data0=>0.9947947084404539}, {:data0=>-0.5546431973879513}, {:data0=>0.2851493975696074}, {:data0=>0.27426325741155244}, {:data0=>0.5647238348895997}, {:data0=>1.666264833240577}, {:data0=>-1.9079619683627145}, {:data0=>0.7558339995008773}, {:data0=>-1.9886582676633182}, {:data0=>-1.520006114673104}, {:data0=>1.6651437048673168}, {:data0=>0.2356374361060089}, {:data0=>1.6629850202699243}, {:data0=>1.3032755028358225}, {:data0=>-1.4527206523380858}, {:data0=>0.3504917631026137}, {:data0=>0.5521266138454048}, {:data0=>-0.0829313654220059}, {:data0=>-1.2735573169359542}, {:data0=>-0.8986839946438129}, {:data0=>0.30777226064567365}, {:data0=>-0.7539758228001028}, {:data0=>2.6889463441450134}, {:data0=>1.4733072568834549}, {:data0=>-0.14529935848914874}, {:data0=>0.1668296435188252}, {:data0=>0.08528988881914909}, {:data0=>0.434200064657629}, {:data0=>-0.3967389779045509}, {:data0=>0.8920982573933398}, {:data0=>0.04290025701211717}, {:data0=>-0.024668604796566147}, {:data0=>1.1400333592386673}, {:data0=>1.0810211636711673}, {:data0=>0.2589585239376436}, {:data0=>-0.1962230705613623}, {:data0=>-1.2406042008440012}, {:data0=>-0.8863778806986163}, {:data0=>-1.0349967686180972}, {:data0=>-1.1398382301144065}, {:data0=>-1.5320977790825367}, {:data0=>1.2544491434399792}, {:data0=>-1.445235909544652}, {:data0=>-0.5979886389412997}, {:data0=>0.859480224790874}, {:data0=>0.04889564193157405}, {:data0=>0.870329153611198}, {:data0=>-0.3902334394038185}, {:data0=>-2.059261582664559}, {:data0=>-1.6698115664381752}, {:data0=>0.6336157282210424}, {:data0=>2.578567626551402}, {:data0=>-2.0804958574122208}, {:data0=>-0.37133451151705943}, {:data0=>0.14569033487121552}, {:data0=>0.7980929495658431}, {:data0=>0.8671158187649342}, {:data0=>-0.7497287170843105}, {:data0=>2.023360898793498}, {:data0=>0.5238494323109473}, {:data0=>-0.6195462671906516}, {:data0=>1.7460740949743092}, {:data0=>-0.40212496225953503}, {:data0=>-0.7841498112771571}, {:data0=>1.1827361890107164}, {:data0=>0.7838732150565146}, {:data0=>-0.45809596580809214}, {:data0=>0.4039507898585843}, {:data0=>0.5048072897075332}, {:data0=>-0.2608100566644409}, {:data0=>-0.6023351665269707}, {:data0=>1.4314742653379389}, {:data0=>-0.9018360788200097}, {:data0=>-0.18232274139017882}, {:data0=>-0.417839541727033}, {:data0=>0.3146538419148817}, {:data0=>-2.331593561446619}, {:data0=>0.25671448568415856}, {:data0=>0.15281035712639643}, {:data0=>-1.640033873203365}, {:data0=>0.5309680140693056}, {:data0=>-0.18026805036386834}, {:data0=>-0.8436665094037709}, {:data0=>-0.9469093055107861}, {:data0=>-0.48436962091384156}, {:data0=>-0.4070870043565668}, {:data0=>1.9356580872683196}, {:data0=>-0.8740262526862886}, {:data0=>0.5996356370894896}, {:data0=>0.22469646214988867}, {:data0=>1.1551794285276422}, {:data0=>0.5395469924606338}, {:data0=>-0.023546062418838144}, {:data0=>0.8550674232540308}, {:data0=>0.16326116531125393}, {:data0=>2.2101394284817992}, {:data0=>-0.3751698862115913}, {:data0=>-0.16707234967064255}, {:data0=>-1.0289927235216572}, {:data0=>0.467864508759737}, {:data0=>0.9114720968822666}, {:data0=>1.526435062917601}, {:data0=>0.25793523143968744}, {:data0=>-0.907100431800887}, {:data0=>2.220566185040431}, {:data0=>0.30174536906345245}, {:data0=>0.4397683986066053}, {:data0=>1.5809711553262262}, {:data0=>0.6968481947663109}, {:data0=>1.2333093654440224}, {:data0=>-0.051759768827923755}, {:data0=>-1.9220577319084804}, {:data0=>-0.11711403147308275}, {:data0=>0.5697426530283087}, {:data0=>0.9563255836917197}, {:data0=>-0.49869137715794715}, {:data0=>-0.04534935622304471}, {:data0=>-0.5484335035910013}, {:data0=>1.8501733011102475}, {:data0=>-1.7398013556840013}, {:data0=>0.548807926284094}, {:data0=>-1.0069361702073198}, {:data0=>-1.171573184142204}, {:data0=>-0.8351080166214675}, {:data0=>-0.052763425718435224}, {:data0=>-0.8216895237360469}, {:data0=>-0.518101676553295}, {:data0=>-1.9445141878582337}, {:data0=>-1.5900118816736466}, {:data0=>0.29230479351678895}, {:data0=>1.4083812274120175}, {:data0=>-0.30436143616785527}, {:data0=>-0.19339640695095112}, {:data0=>-0.29900760779627905}, {:data0=>-1.608385557491432}, {:data0=>0.06666487284919685}, {:data0=>0.2026227335052351}, {:data0=>0.1618265932440668}, {:data0=>-0.18232379117230085}, {:data0=>0.035786898013493225}, {:data0=>1.0135296752627008}, {:data0=>0.0498710293260968}, {:data0=>0.3404670642204141}, {:data0=>-1.1531756279874943}, {:data0=>-0.6517164545420956}, {:data0=>0.40588283913167367}, {:data0=>0.7267531718340838}, {:data0=>-0.2657610206794656}, {:data0=>-2.4760122816904215}, {:data0=>-0.4107939936520137}, {:data0=>-0.21650724593916496}, {:data0=>1.1539861127921842}, {:data0=>0.25632801601700217}, {:data0=>0.49452919388792965}, {:data0=>0.2247917408544763}, {:data0=>0.9708651153963554}, {:data0=>1.0592927912967658}, {:data0=>-0.5623500787814236}, {:data0=>1.4180365861384334}, {:data0=>0.05602784178207554}, {:data0=>0.7526071998336851}, {:data0=>0.2657355379638327}, {:data0=>-2.426445953635939}, {:data0=>-0.6018941897061936}, {:data0=>-1.398206526624877}, {:data0=>0.28296289775588707}, {:data0=>-1.153652306447549}, {:data0=>-1.8962174656730946}, {:data0=>0.011238634845362519}, {:data0=>0.7793946740594949}, {:data0=>-0.6399422262710449}, {:data0=>-2.1335431284638617}, {:data0=>1.159152389008015}, {:data0=>-0.43002930371433074}, {:data0=>0.9830635118423741}, {:data0=>-0.03817386960424021}, {:data0=>-0.08377974113114106}, {:data0=>-0.06531306091108478}, {:data0=>0.18702996127503513}, {:data0=>-1.4014696483389566}, {:data0=>1.356771952577436}, {:data0=>-0.03486461363931347}, {:data0=>0.25910932297369393}, {:data0=>0.4369680267168515}, {:data0=>-1.6161469403740094}, {:data0=>-0.2994954475411566}, {:data0=>0.576591619007417}, {:data0=>-0.949526011840207}, {:data0=>1.0849043746807447}, {:data0=>-1.9444204732946406}, {:data0=>0.39268155410296457}, {:data0=>0.952369548997052}, {:data0=>-0.04537347185749055}, {:data0=>-0.5436742517955035}, {:data0=>1.2003869845232613}, {:data0=>-1.4551353392950237}, {:data0=>-0.8680798885317594}, {:data0=>1.5528831261996943}, {:data0=>1.2954966104943884}, {:data0=>2.135410678831693}, {:data0=>0.797137216487991}, {:data0=>-1.9558088394594877}, {:data0=>-0.5953158480681962}, {:data0=>0.2684946941967884}, {:data0=>1.548397300854363}, {:data0=>0.0041929197660213625}, {:data0=>1.2948755145963127}, {:data0=>1.5181155873707985}, {:data0=>0.8323169709810252}, {:data0=>-0.2838732863424749}, {:data0=>-1.7341880931390945}, {:data0=>-0.753888636056858}, {:data0=>0.6928045695158259}, {:data0=>0.5114737871540639}, {:data0=>-0.9618556868276733}, {:data0=>-0.2442712466928068}, {:data0=>0.6908851463354326}, {:data0=>0.30663866167410425}, {:data0=>-1.0871372199269758}, {:data0=>-1.5515310732007155}, {:data0=>-0.1419233891187357}, {:data0=>-0.9071117290530846}, {:data0=>1.0879319588855765}, {:data0=>-0.8741917343010978}, {:data0=>-0.346365516093282}, {:data0=>-0.2595561050794102}, {:data0=>-1.285106661674217}, {:data0=>-0.7269562387976882}, {:data0=>0.9296330791291669}, {:data0=>1.3277222107470548}, {:data0=>0.5571498096490107}, {:data0=>1.005708662403718}, {:data0=>-0.5159923943078978}, {:data0=>-0.26135754877912376}, {:data0=>-0.3134456452200937}, {:data0=>-0.6429299521961602}, {:data0=>-0.6150909903049108}, {:data0=>-0.028396562531285648}, {:data0=>-1.8297253108473281}, {:data0=>-1.4433717262482317}, {:data0=>-0.3873617410352513}, {:data0=>-0.7444243294565653}, {:data0=>-1.615803524563949}, {:data0=>-0.8071958253738403}, {:data0=>-1.519427704181443}, {:data0=>2.77117210027527}, {:data0=>0.2857638272959798}, {:data0=>1.2284081518482497}, {:data0=>-1.5143140483938706}, {:data0=>-0.6983312843527261}, {:data0=>0.8716276984554392}, {:data0=>0.22623583769115796}, {:data0=>-0.301880862001522}, {:data0=>-0.14281614905645534}, {:data0=>1.097604453226843}, {:data0=>0.6358711454336997}, {:data0=>1.0669768813861882}, {:data0=>0.7111075113553809}, {:data0=>0.2011514606731982}, {:data0=>0.13350532386423578}, {:data0=>-1.6485257135648321}, {:data0=>-0.4642244005503914}, {:data0=>-0.5457678167008623}, {:data0=>0.8153922335652465}, {:data0=>0.31699084436943203}, {:data0=>-1.2744916928007515}, {:data0=>0.040204856362505904}, {:data0=>0.9187528583927453}, {:data0=>0.04030189492570621}, {:data0=>-0.8698695683437753}, {:data0=>1.2063325451167541}, {:data0=>-0.9338836497767949}, {:data0=>-0.028608028823311864}, {:data0=>-0.39213254386863367}, {:data0=>0.2336640200048327}, {:data0=>-1.2457024779664225}, {:data0=>0.2772091979500092}, {:data0=>-1.0934220488617303}, {:data0=>-0.2103167164259389}, {:data0=>0.8060322221585299}, {:data0=>-0.5539558155060833}, {:data0=>-0.24960311798385573}, {:data0=>-0.5530489654945753}, {:data0=>-0.6764578902691405}, {:data0=>-0.49072496558731543}, {:data0=>0.22259963477384498}, {:data0=>-0.8651835288808746}, {:data0=>-0.3212970735497158}, {:data0=>1.6950919421528832}, {:data0=>-0.24445374849043752}, {:data0=>-0.04472827803250385}, {:data0=>0.16750629177047094}, {:data0=>1.0682090947143585}, {:data0=>1.0971927371492514}, {:data0=>-0.6472150852169456}, {:data0=>0.8848039589995863}, {:data0=>0.07801019030535765}, {:data0=>0.2071535736411413}, {:data0=>-0.3051309648609917}, {:data0=>-0.8501085842009518}, {:data0=>0.4401863236179221}, {:data0=>-0.9486670161449504}, {:data0=>1.2801361790989618}, {:data0=>-0.5280428566915898}, {:data0=>0.34389457627881453}, {:data0=>-0.39125632503891905}, {:data0=>0.5882443667002838}, {:data0=>-0.057883042707691054}, {:data0=>-0.652992370093729}, {:data0=>0.1645902789157507}, {:data0=>-0.28576234616054086}, {:data0=>0.8233804212334002}, {:data0=>0.8696449487753507}, {:data0=>1.4662502825092771}, {:data0=>-0.31006350094740165}, {:data0=>-0.278041283130653}, {:data0=>-0.7427604512520559}, {:data0=>-1.082303941851047}, {:data0=>1.8324556472623847}, {:data0=>-0.39775215272363346}, {:data0=>0.23559333837794944}, {:data0=>-0.46406435568663823}, {:data0=>-0.10569070878081266}, {:data0=>0.3703497072846736}, {:data0=>0.7391353063027234}, {:data0=>0.10745451817096338}, {:data0=>-1.2359599904110294}, {:data0=>0.06244853551572529}, {:data0=>0.2581922008179865}, {:data0=>-0.7930938804590192}, {:data0=>-1.0464752414465217}, {:data0=>-0.4091025584449287}, {:data0=>0.5626324692284961}, {:data0=>-0.022767467953608955}, {:data0=>-0.604336143486954}, {:data0=>-0.949249458607285}, {:data0=>0.07329141104920507}, {:data0=>-1.8010899058256615}, {:data0=>-1.3140451549909393}, {:data0=>-0.471227734889502}, {:data0=>0.23817406741893996}, {:data0=>0.9962344400384037}, {:data0=>-0.4927827516120758}, {:data0=>1.1566152946017036}, {:data0=>-0.39617281072003613}, {:data0=>-2.118102553483117}, {:data0=>-0.7631687394950756}, {:data0=>-0.6528256006791763}, {:data0=>0.11570509985234473}, {:data0=>1.4497853525914286}, {:data0=>-0.5260457598971926}, {:data0=>-0.7201722760777455}, {:data0=>-0.18621138080264618}, {:data0=>0.6669948066560734}, {:data0=>-1.3831110149999772}, {:data0=>-1.3846027599761368}, {:data0=>-0.7302004096685345}, {:data0=>0.8591208075172443}, {:data0=>0.9234538938592841}, {:data0=>-0.35923507408451233}, {:data0=>0.3263401159204947}, {:data0=>-2.5544071751803945}, {:data0=>-0.24960606838883467}, {:data0=>-1.0062023017405621}, {:data0=>-1.8152657702802932}, {:data0=>0.9481401970951201}, {:data0=>0.04893162831466697}, {:data0=>0.6006176676462145}, {:data0=>-1.0027291826756042}, {:data0=>-0.2732976461737541}, {:data0=>0.6999991759506994}, {:data0=>1.7284112918434495}, {:data0=>-0.9477959607540586}, {:data0=>0.47484682409667184}, {:data0=>-1.499398315867696}, {:data0=>1.0024448655255644}, {:data0=>-0.25331663290572076}, {:data0=>-0.9798013701859455}, {:data0=>-0.10620472771896754}, {:data0=>2.0616266360647812}, {:data0=>-1.586358855687875}, {:data0=>0.9975405070937319}, {:data0=>-0.4339637652280236}, {:data0=>0.9403169958893276}, {:data0=>-0.5813704902764277}, {:data0=>1.2245852945720903}, {:data0=>0.07791678389835441}, {:data0=>0.9378043406351674}, {:data0=>2.926542352686817}, {:data0=>1.565710669542112}, {:data0=>-1.6290013971206665}, {:data0=>1.0665543589883297}, {:data0=>1.326491617809359}, {:data0=>0.01952619522378079}, {:data0=>0.3565883028602098}, {:data0=>-2.4414903349943295}, {:data0=>0.5896615216954637}, {:data0=>-0.9003956583395236}, {:data0=>0.2805966968220437}, {:data0=>0.18100520244123247}, {:data0=>0.17281698950880298}, {:data0=>-0.39621968671088076}, {:data0=>0.27048213345748917}, {:data0=>-0.5780324878798003}, {:data0=>-0.6334232704814606}, {:data0=>2.4775516818422}, {:data0=>0.02972223278679584}, {:data0=>0.7978603922969161}, {:data0=>-0.3977018170275992}, {:data0=>0.37045697372835706}, {:data0=>-0.2454375680183823}, {:data0=>-1.279225397537916}, {:data0=>0.28039821835122547}, {:data0=>-0.6916900677689011}, {:data0=>-0.9740983594824872}, {:data0=>2.015202654769262}, {:data0=>0.2589611997199272}, {:data0=>-0.11797464663989427}, {:data0=>0.42686165827304834}, {:data0=>0.7695830218029845}, {:data0=>0.05114437438411491}, {:data0=>0.6307498942831711}, {:data0=>0.7433601586748348}, {:data0=>0.7099654059463829}, {:data0=>1.1225138526482432}, {:data0=>-0.30403795909609777}, {:data0=>0.789631438370321}, {:data0=>1.6054840209325825}, {:data0=>1.7470358548360614}, {:data0=>0.9223917837807726}, {:data0=>0.9921840595515894}, {:data0=>0.4232800705968505}, {:data0=>-0.4198393901740931}, {:data0=>-0.40570923811346127}, {:data0=>-0.018273275934128065}, {:data0=>0.6405404228786851}, {:data0=>-0.0149433832554963}, {:data0=>-1.2773442636720707}, {:data0=>-0.44500065594179344}, {:data0=>0.5313089482344717}, {:data0=>-0.01418742853408277}, {:data0=>-0.5979115118653429}, {:data0=>-0.7407315273757885}, {:data0=>-0.6452306944676826}, {:data0=>-0.9558918809735886}, {:data0=>-0.048013047656646685}, {:data0=>-1.0851062459828904}, {:data0=>0.7514754869391671}, {:data0=>-0.31023759882449065}, {:data0=>0.8402923907342249}, {:data0=>0.7507286107401009}, {:data0=>-1.4433347267678314}, {:data0=>1.5421351579469587}, {:data0=>-2.3055964919855456}, {:data0=>-0.3427800264050896}, {:data0=>-0.7530619318596944}, {:data0=>-2.598231588545763}, {:data0=>0.9680890452668282}, {:data0=>-1.9477471076530193}, {:data0=>0.40676515134904556}, {:data0=>-1.6253608904588648}, {:data0=>0.40253959639655973}, {:data0=>-0.49130320126995664}, {:data0=>-2.378082512796864}, {:data0=>-0.28985091114536926}, {:data0=>-0.0820663686662243}, {:data0=>-0.6217644269807843}, {:data0=>-1.097069883529735}, {:data0=>-0.12978388190765733}, {:data0=>0.65867316937774}, {:data0=>1.458913941770042}, {:data0=>-1.1057335913811803}, {:data0=>-0.1143125948002598}, {:data0=>1.4266697125596268}, {:data0=>0.6282741351072091}, {:data0=>0.669183233260587}, {:data0=>-0.30414779898179706}, {:data0=>-1.1643566594211454}, {:data0=>0.5940090417890374}, {:data0=>-0.3871508562645742}, {:data0=>0.13563647355567596}, {:data0=>1.1795695531383503}, {:data0=>0.29558356795375396}, {:data0=>1.83178655876472}, {:data0=>1.5918208476033335}, {:data0=>2.8982713918305136}, {:data0=>0.8458910315878626}, {:data0=>0.20561312239414345}, {:data0=>0.5712793231695531}, {:data0=>-1.8706411438031818}, {:data0=>-1.093030994652709}, {:data0=>1.639174811598941}, {:data0=>0.4425840206053012}, {:data0=>0.015102965351526249}, {:data0=>-1.3468372012979406}, {:data0=>0.17220711097901117}, {:data0=>-0.473300281113008}, {:data0=>1.3722216708793211}, {:data0=>-0.9349142042355278}, {:data0=>2.081041560265276}, {:data0=>-0.8778337623006095}, {:data0=>-0.5746780890164248}, {:data0=>0.6873692705799294}, {:data0=>-0.3294888407986249}, {:data0=>0.6103338831163257}, {:data0=>-1.2300769685302315}, {:data0=>-0.23466383089602064}, {:data0=>1.0739753476685052}, {:data0=>-1.3320118410906305}, {:data0=>-0.9657292951206322}, {:data0=>-0.16368482125840306}, {:data0=>0.8979320068091265}, {:data0=>-2.1850214469688134}, {:data0=>0.5758540539757098}, {:data0=>0.35010781260709145}, {:data0=>-0.25341244042988986}, {:data0=>-1.8055875073049492}, {:data0=>-1.5303251616403466}, {:data0=>-1.1281110802967815}, {:data0=>-0.48360887244802186}, {:data0=>-0.8435028778535358}, {:data0=>-1.5706336911339982}, {:data0=>-1.2516693485692763}, {:data0=>0.20219821085713627}, {:data0=>-0.844079464376184}, {:data0=>-1.411423078131618}, {:data0=>-1.1744351930731263}, {:data0=>0.7538431004143769}, {:data0=>0.9635770987498251}, {:data0=>-0.16850777985440107}, {:data0=>0.31499572124743713}, {:data0=>1.0769260382454404}, {:data0=>-0.5370213980212664}, {:data0=>-1.5196870026732496}, {:data0=>1.76140250458868}, {:data0=>0.4574451369134637}, {:data0=>0.07135192768493194}, {:data0=>1.605152092096413}, {:data0=>-1.0606651195922043}, {:data0=>0.3649117501336826}, {:data0=>0.14385841597818405}, {:data0=>1.6361319948324984}, {:data0=>1.9851996915091363}, {:data0=>-1.4056905465504734}, {:data0=>-0.12851804964018154}, {:data0=>0.46375208263231343}, {:data0=>-1.3851928377425338}, {:data0=>0.21750514518257874}, {:data0=>-0.2855015495053066}, {:data0=>0.4665754422459242}, {:data0=>0.9802855066615257}, {:data0=>1.5673985261769086}, {:data0=>0.4844122531109537}, {:data0=>0.524030496853427}, {:data0=>0.9809055434571379}, {:data0=>-0.4886940794506829}, {:data0=>-1.1850129982441033}, {:data0=>-1.263409427374991}, {:data0=>1.5663975540633857}, {:data0=>-0.8906151427309368}, {:data0=>-0.275143832192769}, {:data0=>0.2685347665176193}, {:data0=>-0.631022526238711}, {:data0=>-2.3761184833759397}, {:data0=>1.166919921300691}, {:data0=>-0.03412296662413122}, {:data0=>-1.770746791687329}, {:data0=>-0.3302334166993193}, {:data0=>1.651155738319205}, {:data0=>-0.670551303342097}, {:data0=>0.10625692630802232}, {:data0=>0.1631022537133168}, {:data0=>-0.41668966503097776}, {:data0=>1.0166108768427184}, {:data0=>-0.6698694462450048}, {:data0=>-1.7962984819812777}, {:data0=>-2.1706822604742078}, {:data0=>0.7836018829779918}, {:data0=>0.12112103357117869}, {:data0=>0.5513462840398725}, {:data0=>0.2548039175720171}, {:data0=>0.30228567245715965}, {:data0=>0.14028540050577132}, {:data0=>-0.5764027284653891}, {:data0=>0.4048419732802101}, {:data0=>-0.16017570071601073}, {:data0=>0.22938542627539985}, {:data0=>-2.105121566651593}, {:data0=>1.5640419336143478}, {:data0=>-2.3223547081820484}, {:data0=>-0.6940812700537181}, {:data0=>-0.885740117247445}, {:data0=>-0.3634956476549191}, {:data0=>1.678862114563666}, {:data0=>1.545555750628525}, {:data0=>-3.114189561411111}, {:data0=>-0.7246746505959665}, {:data0=>-0.016838775883950188}, {:data0=>1.0594423539021638}, {:data0=>1.0248373232163819}, {:data0=>1.141862898052077}, {:data0=>-0.47115091370617534}, {:data0=>-0.16937791100293528}, {:data0=>0.9568717038670579}, {:data0=>0.8077652249073881}, {:data0=>-0.3596733621750945}, {:data0=>0.4123418204220369}, {:data0=>0.8510274252890163}, {:data0=>-0.2686573458342854}, {:data0=>0.7363875900336859}, {:data0=>1.2510930336905974}, {:data0=>-0.23151254576307875}, {:data0=>2.135864406073907}, {:data0=>-0.44008256501915827}, {:data0=>-0.4410203955818302}, {:data0=>0.24739894980750016}, {:data0=>0.5514598196825486}, {:data0=>0.427363060731308}, {:data0=>0.9704337114977686}, {:data0=>-2.334162831435256}, {:data0=>0.14188820327409998}, {:data0=>0.8376487500192369}, {:data0=>-1.6381817587364889}, {:data0=>0.22280029733756979}, {:data0=>-1.150052343139099}, {:data0=>1.3489393869797903}, {:data0=>1.9942428863793809}, {:data0=>0.4393356925349777}, {:data0=>-1.2610453656325404}, {:data0=>-2.0065391888393562}, {:data0=>0.8673716505302496}, {:data0=>-0.2782341759715746}, {:data0=>-0.3192181998553506}, {:data0=>1.6595870000266317}, {:data0=>-0.7723932190601216}, {:data0=>1.7745734764925207}, {:data0=>-0.09446974208250536}, {:data0=>0.25530732098364856}, {:data0=>-0.011169286020966944}, {:data0=>-0.16168782285853783}, {:data0=>0.4428087022189128}, {:data0=>0.7434301609680171}, {:data0=>-0.24663911370073896}, {:data0=>-0.44075324471717003}, {:data0=>-0.8056888448431275}, {:data0=>0.7970907649320643}, {:data0=>2.0047069122569385}, {:data0=>1.1704625562277269}, {:data0=>0.15275308222492498}, {:data0=>0.028457173782647664}, {:data0=>-1.4382358249866014}, {:data0=>0.01301459186194205}, {:data0=>1.2471617346897304}, {:data0=>-0.8009588105125466}, {:data0=>0.08655850978144236}, {:data0=>-0.8725852237252995}, {:data0=>-0.8662621871769489}, {:data0=>0.33470279514183304}, {:data0=>0.7869591248427225}, {:data0=>-1.4647096768719086}, {:data0=>-0.90222437034818}, {:data0=>-1.7509364553867413}, {:data0=>-0.9874591438672007}, {:data0=>0.3072855634140447}, {:data0=>-0.9069268964404542}, {:data0=>-0.49884543902639855}, {:data0=>-0.5797059949842709}, {:data0=>-1.4436456044886865}, {:data0=>0.8272812149582742}, {:data0=>-0.050150958852024266}, {:data0=>-0.4807609136650116}, {:data0=>0.9155336310485866}, {:data0=>0.43105779005153866}, {:data0=>-1.0930928899870225}, {:data0=>0.12583230277948662}, {:data0=>-1.5230678703176368}, {:data0=>-1.1940039667395341}, {:data0=>0.3289027619363909}, {:data0=>0.7994981133090855}, {:data0=>1.92173754121147}, {:data0=>0.7768589228257041}, {:data0=>0.560942179067719}, {:data0=>-1.898759557745733}, {:data0=>-0.6633957586723558}, {:data0=>0.1807372050995696}, {:data0=>0.44753971271009935}, {:data0=>0.160782189030381}, {:data0=>0.5210383055248933}, {:data0=>-0.39587020531140366}, {:data0=>-0.9233476235917012}, {:data0=>0.3503660330872658}, {:data0=>-0.5680379549069269}, {:data0=>-0.3159592462029931}, {:data0=>-1.5408060215596178}, {:data0=>-1.8736857350250267}, {:data0=>0.07989199923649155}, {:data0=>0.136617717495062}, {:data0=>0.8308312755831617}, {:data0=>-3.4631664245354132}, {:data0=>0.8054660443799194}, {:data0=>0.6548750814139442}, {:data0=>-0.056507925128140235}, {:data0=>0.7650145242680843}, {:data0=>0.1741085269462138}, {:data0=>-0.09980042481670508}, {:data0=>-1.124802927447221}, {:data0=>0.8206378994824293}, {:data0=>-1.8768186953121713}, {:data0=>-1.0503924653229555}, {:data0=>0.9972116929461069}, {:data0=>-1.0042259514443181}, {:data0=>1.4367530453574222}, {:data0=>0.3869971022870985}, {:data0=>-0.7211068513908725}, {:data0=>-0.0788580671062186}, {:data0=>0.8083364555687854}, {:data0=>-0.5845827995007615}, {:data0=>0.8380932006104213}, {:data0=>-0.867614152915725}, {:data0=>0.11190580172314672}, {:data0=>0.5885347885149802}, {:data0=>-0.453150507111142}, {:data0=>1.2042459425630836}, {:data0=>2.148955444198871}, {:data0=>-0.3299204855082038}, {:data0=>0.14701978860003242}, {:data0=>-0.10244259491631706}, {:data0=>0.7632787173942162}, {:data0=>0.3001120043077041}, {:data0=>-0.4328574208106585}, {:data0=>1.6942851155505758}, {:data0=>-1.5448764730709317}, {:data0=>1.681991098873781}, {:data0=>-1.6139387477613616}, {:data0=>-0.42653392625871517}, {:data0=>-0.043692946454711334}, {:data0=>0.6566555110609067}, {:data0=>-0.32454689851034546}, {:data0=>1.3993785758698831}, {:data0=>-0.42292036708489855}, {:data0=>1.4141360035607164}, {:data0=>1.3140030480014038}, {:data0=>0.20744359673058044}, {:data0=>-0.7051731961899789}, {:data0=>0.1081855351133093}, {:data0=>-0.03040277673650614}, {:data0=>1.21897701798797}, {:data0=>1.1288356259991843}, {:data0=>3.0280443798238488}, {:data0=>-0.3034633093052677}, {:data0=>-0.7295326911801837}, {:data0=>-0.43076607544661605}, {:data0=>0.7495933773421262}, {:data0=>-0.13006803244215404}, {:data0=>0.7299425368728332}, {:data0=>-0.8433021719291246}, {:data0=>-2.4682572362854844}, {:data0=>-1.1085603776945476}, {:data0=>-0.5350002050282421}, {:data0=>-0.13446889965178196}, {:data0=>0.7611419542234137}, {:data0=>-0.05311310260565835}, {:data0=>2.2562591052288794}, {:data0=>1.4621838505062557}, {:data0=>0.5232230468732708}, {:data0=>0.7964320704708802}, {:data0=>-0.07956583368079342}, {:data0=>0.15278277341426477}, {:data0=>-1.082676791266333}, {:data0=>0.2938879123667068}, {:data0=>-1.3767464006304806}, {:data0=>1.030227449451043}, {:data0=>-0.7408473967065715}, {:data0=>-0.615469607144205}, {:data0=>-1.3472360502812961}, {:data0=>1.8097808162263942}, {:data0=>-0.309824151463349}, {:data0=>-0.6302336593486176}, {:data0=>-0.26352248770832304}, {:data0=>-0.11068806883826882}, {:data0=>-0.29171753705712233}, {:data0=>0.7713264308941065}, {:data0=>0.2485640565950114}, {:data0=>-0.8973807863006242}, {:data0=>0.5023152115295798}, {:data0=>0.7267182069630906}, {:data0=>-0.4715705686388069}, {:data0=>-0.20728943945045292}, {:data0=>1.6399533260020167}, {:data0=>0.34148701664042125}, {:data0=>1.1995172268721466}, {:data0=>0.9164764445443557}, {:data0=>-0.6555769203929798}, {:data0=>-0.6803703985805274}, {:data0=>0.7229886188748728}, {:data0=>0.6568533912199508}, {:data0=>0.3622387810068463}, {:data0=>0.10716197215739884}, {:data0=>-2.0116948872514695}, {:data0=>-0.7535181931313952}, {:data0=>0.5319385042738799}, {:data0=>1.24652370983531}, {:data0=>-1.2759991621075286}, {:data0=>-1.6077027493915979}, {:data0=>-0.8220518109478105}, {:data0=>0.5442778217929792}, {:data0=>-0.26460504403344537}, {:data0=>0.2422409193475964}, {:data0=>-1.9867798116654727}, {:data0=>1.117447175513523}, {:data0=>1.306329568838063}, {:data0=>-0.41941403219781265}, {:data0=>-1.0844449090238168}, {:data0=>2.189682038120933}, {:data0=>-0.38041479753697266}, {:data0=>0.5484439875701367}, {:data0=>0.513141748591183}, {:data0=>-1.962477309221269}, {:data0=>1.9286223386834491}, {:data0=>-0.16332173109656417}, {:data0=>0.08323125429486479}, {:data0=>0.7836722081358065}, {:data0=>-1.0705877135203103}, {:data0=>-2.1644843522342203}, {:data0=>1.495809661725826}, {:data0=>2.602987502828558}, {:data0=>0.7037886704405751}, {:data0=>-1.4104319799580785}, {:data0=>0.5548500393678648}, {:data0=>-2.435872024706189}, {:data0=>0.5428670428437018}, {:data0=>0.6278080140540777}, {:data0=>0.18125689695049976}, {:data0=>-1.2078537880165547}, {:data0=>0.9930382809641742}, {:data0=>-0.47056531903222154}, {:data0=>-0.8395014105326135}, {:data0=>-0.6520386606517546}]>}, :extension=>[]}>"
      ]
     },
     "metadata": {},
     "output_type": "display_data"
    }
   ],
   "source": [
    "require 'statsample'\n",
    "include Statsample::Shorthand\n",
    "\n",
    "a = rnorm(1000)\n",
    "a.plot type: :histogram do |p|\n",
    "  p.yrange [0,200]\n",
    "  p.y_label \"Frequency\"\n",
    "  p.x_label \"Bins\"\n",
    "end"
   ]
  },
  {
   "cell_type": "markdown",
   "metadata": {},
   "source": [
    "#### More plotting support\n",
    "\n",
    "Apart from interfacing with nyaplot, Daru::Vector also works out-of-the-box with rubyvis through statsample. To see generating plots with statsample and rubyvis in action, checkout the following notebooks:\n",
    "\n",
    "* [Histogram](http://nbviewer.ipython.org/github/SciRuby/sciruby-notebooks/blob/master/Visualization/Creating%20a%20Histogram.ipynb)\n",
    "* [Scatter Plot](http://nbviewer.ipython.org/github/SciRuby/sciruby-notebooks/blob/master/Visualization/Scatterplot%20with%20statsample.ipynb)\n",
    "* [Box Plot](http://nbviewer.ipython.org/github/SciRuby/sciruby-notebooks/blob/master/Visualization/Boxplot%20with%20daru%20and%20statsample.ipynb)"
   ]
  }
 ],
 "metadata": {
  "kernelspec": {
   "display_name": "Ruby 2.2.1",
   "language": "ruby",
   "name": "ruby"
  },
  "language_info": {
   "file_extension": "rb",
   "mimetype": "application/x-ruby",
   "name": "ruby",
   "version": "2.2.1"
  }
 },
 "nbformat": 4,
 "nbformat_minor": 0
}
