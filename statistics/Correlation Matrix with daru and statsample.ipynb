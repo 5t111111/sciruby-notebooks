{
 "cells": [
  {
   "cell_type": "markdown",
   "metadata": {},
   "source": [
    "# Creating and summarizing a correlation matrix with daru and statsample\n",
    "\n",
    "## This notebook also serves as a demostration of Daru.lazy_update and "
   ]
  },
  {
   "cell_type": "code",
   "execution_count": 12,
   "metadata": {
    "collapsed": false
   },
   "outputs": [
    {
     "data": {
      "text/plain": [
       "\"== DataFrame ==\\n\""
      ]
     },
     "metadata": {},
     "output_type": "display_data"
    },
    {
     "data": {
      "text/html": [
       "<table><tr><th></th><th>a</th><th>b</th><th>c</th><th>d</th></tr><tr><td>0</td><td>-2.440821265161855</td><td>-0.2663867705446803</td><td>-0.9667049163587536</td><td>-0.6247662665284197</td></tr><tr><td>1</td><td>-0.9973263526986711</td><td>0.8965870460177997</td><td>-0.4924093636219239</td><td>-1.0325364294957489</td></tr><tr><td>2</td><td>-0.2744289410160191</td><td>1.8088687531883922</td><td>-0.5910605176882341</td><td>1.3789993200304744</td></tr><tr><td>3</td><td>1.8688690135894495</td><td>-0.5845393024341371</td><td>2.140052050767279</td><td>-0.11879447826728619</td></tr><tr><td>4</td><td>1.0841575504132723</td><td>0.29819461734869424</td><td>0.5801339485682966</td><td>1.935529360750203</td></tr><tr><td>5</td><td>0.8365312603239075</td><td>-2.592250495057871</td><td>-0.5377005060865632</td><td>-1.3156474227148434</td></tr><tr><td>6</td><td>-0.6143096811863075</td><td>0.9303368054803663</td><td>-0.2762842748435172</td><td>0.695374402222615</td></tr><tr><td>7</td><td>0.9288749463298932</td><td>0.17342875610525094</td><td>-0.18948493978562986</td><td>0.5439278783192012</td></tr><tr><td>8</td><td>-1.2315590581627647</td><td>-0.5070225404828463</td><td>0.7560851316374544</td><td>-0.5377282599496545</td></tr><tr><td>9</td><td>-0.8552039210385985</td><td>0.1061517520214962</td><td>-1.2859991357392173</td><td>-0.7772438525282614</td></tr><tr><td>10</td><td>0.109004152753796</td><td>-0.5146703134593364</td><td>1.6338786244674606</td><td>-0.39285194944821017</td></tr></table>"
      ],
      "text/plain": [
       "\n",
       "#<Daru::DataFrame:71846410 @name = a20e6c09-edb7-4bd3-940d-e1dd3b06ac08 @size = 11>\n",
       "                    a          b          c          d \n",
       "         0 -2.4408212 -0.2663867 -0.9667049 -0.6247662 \n",
       "         1 -0.9973263 0.89658704 -0.4924093 -1.0325364 \n",
       "         2 -0.2744289 1.80886875 -0.5910605 1.37899932 \n",
       "         3 1.86886901 -0.5845393 2.14005205 -0.1187944 \n",
       "         4 1.08415755 0.29819461 0.58013394 1.93552936 \n",
       "         5 0.83653126 -2.5922504 -0.5377005 -1.3156474 \n",
       "         6 -0.6143096 0.93033680 -0.2762842 0.69537440 \n",
       "         7 0.92887494 0.17342875 -0.1894849 0.54392787 \n",
       "         8 -1.2315590 -0.5070225 0.75608513 -0.5377282 \n",
       "         9 -0.8552039 0.10615175 -1.2859991 -0.7772438 \n",
       "        10 0.10900415 -0.5146703 1.63387862 -0.3928519 \n"
      ]
     },
     "metadata": {},
     "output_type": "display_data"
    },
    {
     "data": {
      "text/plain": [
       "\"\\n== Correlation Matrix ==\\n\""
      ]
     },
     "metadata": {},
     "output_type": "display_data"
    },
    {
     "data": {
      "text/latex": [
       "$$\\left(\\begin{array}{cccc}\n",
       "  1.0&-0.07093352677886748&0.013477672801161788&0.051849860816432954\\\\\n",
       "  -0.07093352677886748&1.0&0.010458169946423295&0.0163511125525614\\\\\n",
       "  0.013477672801161788&0.010458169946423295&1.0&0.01824910238325418\\\\\n",
       "  0.051849860816432954&0.0163511125525614&0.01824910238325418&1.0\\\\\n",
       "\\end{array}\\right)$$"
      ],
      "text/plain": [
       "Matrix[[1.0, -0.07093352677886748, 0.013477672801161788, 0.051849860816432954], [-0.07093352677886748, 1.0, 0.010458169946423295, 0.0163511125525614], [0.013477672801161788, 0.010458169946423295, 1.0, 0.01824910238325418], [0.051849860816432954, 0.0163511125525614, 0.01824910238325418, 1.0]]"
      ]
     },
     "metadata": {},
     "output_type": "display_data"
    },
    {
     "name": "stdout",
     "output_type": "stream",
     "text": [
      "Analysis 2015-06-03 15:17:33 +0530\n",
      "= Statsample::Bivariate.correlation_matrix\n",
      "\n"
     ]
    }
   ],
   "source": [
    "require 'statsample'\n",
    "\n",
    "Statsample::Analysis.store(\"Statsample::Bivariate.correlation_matrix\") do\n",
    "  \n",
    "  # It so happens that Daru::Vector and Daru::DataFrame must update metadata\n",
    "  # like positions of missing values every time they are created. \n",
    "  #\n",
    "  # Since we dont have any missing values in the data that we are creating, \n",
    "  # we set Daru.lazy_update = true so that missing data is not updated every\n",
    "  # time and things happen much faster.\n",
    "  #\n",
    "  # In case you do have missing data and lazy_update has been set to *true*, \n",
    "  # you _SHOULD_ called `#update` on the concerned Vector or DataFrame object\n",
    "  # everytime an assingment or deletion cycle is complete.\n",
    "  Daru.lazy_update = true\n",
    "  \n",
    "  # Create a Daru::DataFrame containing 4 vectors a, b, c and d.\n",
    "  #\n",
    "  # Notice that the `clone` option has been set to *false*. This tells Daru\n",
    "  # to not clone the Daru::Vectors being supplied by `rnorm`, since it would\n",
    "  # be unnecessarily counter productive to clone the vectors once they have\n",
    "  # been assigned to the dataframe.\n",
    "  samples = 1000\n",
    "  ds = Daru::DataFrame.new({\n",
    "    :a => rnorm(samples),\n",
    "    :b => rnorm(samples),\n",
    "    :c => rnorm(samples),\n",
    "    :d => rnorm(samples)\n",
    "  }, clone: false)\n",
    "  \n",
    "  \n",
    "  puts \"== DataFrame ==\\n\"\n",
    "  IRuby.display ds.head\n",
    "  \n",
    "  # Calculate correlation matrix by calling the `cor` shorthand.\n",
    "  cm = Statsample::Bivariate.correlation_matrix(ds)\n",
    "  \n",
    "  puts \"\\n== Correlation Matrix ==\\n\"\n",
    "  IRuby.display cm\n",
    "  \n",
    "  # Set lazy_update to *false* once our job is done so that this analysis does\n",
    "  # not accidentally affect code elsewhere.\n",
    "  Daru.lazy_update = false\n",
    "end\n",
    "\n",
    "Statsample::Analysis.run_batch"
   ]
  }
 ],
 "metadata": {
  "kernelspec": {
   "display_name": "Ruby 2.2.1",
   "language": "ruby",
   "name": "ruby"
  },
  "language_info": {
   "file_extension": "rb",
   "mimetype": "application/x-ruby",
   "name": "ruby",
   "version": "2.2.1"
  }
 },
 "nbformat": 4,
 "nbformat_minor": 0
}
