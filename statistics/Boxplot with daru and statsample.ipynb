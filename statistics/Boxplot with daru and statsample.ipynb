{
 "cells": [
  {
   "cell_type": "markdown",
   "metadata": {},
   "source": [
    "# Creating Boxplots with daru and statsample\n",
    "\n",
    "### Description\n",
    "\n",
    "This example illustrates how daru, combined with Statsample::Graph::Boxplot\n",
    "can be used for generating box plots of a normally distributed set of data.\n",
    "\n",
    "The 'rnorm' function, defined in statsample/shorthands generates a Daru::Vector\n",
    "object which contains the specified number of random variables in a normal distribution.\n",
    "It uses the 'distribution' gem for this purpose."
   ]
  },
  {
   "cell_type": "code",
   "execution_count": 7,
   "metadata": {
    "collapsed": false,
    "scrolled": false
   },
   "outputs": [
    {
     "data": {
      "text/plain": [
       "Daru::Vector"
      ]
     },
     "execution_count": 7,
     "metadata": {},
     "output_type": "execute_result"
    }
   ],
   "source": [
    "require 'daru'\n",
    "require 'statsample'\n",
    "include Statsample::Shorthand\n",
    "\n",
    "n = 30\n",
    "a = rnorm(n-1,50,10)\n",
    "b = rnorm(n, 30,5)\n",
    "c = rnorm(n,5,1)\n",
    "a.push(2)\n",
    "\n",
    "a.class"
   ]
  },
  {
   "cell_type": "code",
   "execution_count": 8,
   "metadata": {
    "collapsed": false
   },
   "outputs": [
    {
     "data": {
      "text/html": [
       "<div id='vis-68d1b1dc-9992-40b9-9295-5c2aa33916e0'></div>\n",
       "<script>\n",
       "(function(){\n",
       "    var render = function(){\n",
       "        var model = {\"panes\":[{\"diagrams\":[{\"type\":\"scatter\",\"options\":{\"x\":\"data0\",\"y\":\"data1\"},\"data\":\"da5a166d-0062-4ea7-a8a4-97a88d8344f4\"}],\"options\":{\"zoom\":true,\"width\":700,\"xrange\":[0,29],\"yrange\":[2,78.55948349140391]}}],\"data\":{\"da5a166d-0062-4ea7-a8a4-97a88d8344f4\":[{\"data0\":0,\"data1\":38.30971413680693},{\"data0\":1,\"data1\":55.44387982490567},{\"data0\":2,\"data1\":45.76519338095696},{\"data0\":3,\"data1\":56.005193440590986},{\"data0\":4,\"data1\":59.72251047251204},{\"data0\":5,\"data1\":50.486217817164395},{\"data0\":6,\"data1\":57.04538860223644},{\"data0\":7,\"data1\":24.076541667218926},{\"data0\":8,\"data1\":58.877071960799064},{\"data0\":9,\"data1\":45.93014563731179},{\"data0\":10,\"data1\":59.37772697796843},{\"data0\":11,\"data1\":42.95819596171652},{\"data0\":12,\"data1\":58.92061969024059},{\"data0\":13,\"data1\":39.426675104618155},{\"data0\":14,\"data1\":48.25115168826487},{\"data0\":15,\"data1\":53.835700573183},{\"data0\":16,\"data1\":57.3372477889954},{\"data0\":17,\"data1\":41.538072731617056},{\"data0\":18,\"data1\":78.55948349140391},{\"data0\":19,\"data1\":56.2110309713634},{\"data0\":20,\"data1\":43.68845501421002},{\"data0\":21,\"data1\":49.75094921116981},{\"data0\":22,\"data1\":50.04177270608168},{\"data0\":23,\"data1\":38.71961201083437},{\"data0\":24,\"data1\":48.99456130060846},{\"data0\":25,\"data1\":48.67995207640971},{\"data0\":26,\"data1\":39.935161526817645},{\"data0\":27,\"data1\":50.978744991372004},{\"data0\":28,\"data1\":54.455956868504416},{\"data0\":29,\"data1\":2}]},\"extension\":[]}\n",
       "        var id_name = '#vis-68d1b1dc-9992-40b9-9295-5c2aa33916e0';\n",
       "        Nyaplot.core.parse(model, id_name);\n",
       "\n",
       "        require(['downloadable'], function(downloadable){\n",
       "          var svg = d3.select(id_name).select(\"svg\");\n",
       "\t  if(!svg.empty())\n",
       "\t    svg.call(downloadable().filename('fig'));\n",
       "\t});\n",
       "    };\n",
       "    if(window['Nyaplot']==undefined){\n",
       "        window.addEventListener('load_nyaplot', render, false);\n",
       "\treturn;\n",
       "    } else {\n",
       "       render();\n",
       "    }\n",
       "})();\n",
       "</script>\n"
      ],
      "text/plain": [
       "#<Nyaplot::Frame:0x8eebbe8 @properties={:panes=>[#<Nyaplot::Plot:0x8eee050 @properties={:diagrams=>[#<Nyaplot::Diagram:0x8eefb08 @properties={:type=>:scatter, :options=>{:x=>\"data0\", :y=>\"data1\"}, :data=>\"da5a166d-0062-4ea7-a8a4-97a88d8344f4\"}, @xrange=[0, 29], @yrange=[2, 78.55948349140391]>], :options=>{:zoom=>true, :width=>700, :xrange=>[0, 29], :yrange=>[2, 78.55948349140391]}}>], :data=>{\"da5a166d-0062-4ea7-a8a4-97a88d8344f4\"=>#<Nyaplot::DataFrame:0x8eedb50 @name=\"da5a166d-0062-4ea7-a8a4-97a88d8344f4\", @rows=[{:data0=>0, :data1=>38.30971413680693}, {:data0=>1, :data1=>55.44387982490567}, {:data0=>2, :data1=>45.76519338095696}, {:data0=>3, :data1=>56.005193440590986}, {:data0=>4, :data1=>59.72251047251204}, {:data0=>5, :data1=>50.486217817164395}, {:data0=>6, :data1=>57.04538860223644}, {:data0=>7, :data1=>24.076541667218926}, {:data0=>8, :data1=>58.877071960799064}, {:data0=>9, :data1=>45.93014563731179}, {:data0=>10, :data1=>59.37772697796843}, {:data0=>11, :data1=>42.95819596171652}, {:data0=>12, :data1=>58.92061969024059}, {:data0=>13, :data1=>39.426675104618155}, {:data0=>14, :data1=>48.25115168826487}, {:data0=>15, :data1=>53.835700573183}, {:data0=>16, :data1=>57.3372477889954}, {:data0=>17, :data1=>41.538072731617056}, {:data0=>18, :data1=>78.55948349140391}, {:data0=>19, :data1=>56.2110309713634}, {:data0=>20, :data1=>43.68845501421002}, {:data0=>21, :data1=>49.75094921116981}, {:data0=>22, :data1=>50.04177270608168}, {:data0=>23, :data1=>38.71961201083437}, {:data0=>24, :data1=>48.99456130060846}, {:data0=>25, :data1=>48.67995207640971}, {:data0=>26, :data1=>39.935161526817645}, {:data0=>27, :data1=>50.978744991372004}, {:data0=>28, :data1=>54.455956868504416}, {:data0=>29, :data1=>2}]>}, :extension=>[]}>"
      ]
     },
     "metadata": {},
     "output_type": "display_data"
    }
   ],
   "source": [
    "a.plot"
   ]
  },
  {
   "cell_type": "markdown",
   "metadata": {},
   "source": [
    "#### Create a boxplot of the data by specifying the vectors a, b and c and providing necessary options to Statsample::Graph::Boxplot. \n",
    "\n",
    "#### The `#to_svg` function returns the boxplot image in a raw SVG format. To display this properly in iruby we need to pass that output to the `IRuby.svg` method."
   ]
  },
  {
   "cell_type": "code",
   "execution_count": 4,
   "metadata": {
    "collapsed": false
   },
   "outputs": [
    {
     "data": {
      "image/svg+xml": [
       "<svg fill='none' font-family='sans-serif' font-size='10px' height='300' stroke='none' stroke-width='1.5' width='300' xmlns:xlink='http://www.w3.org/1999/xlink' xmlns='http://www.w3.org/2000/svg'><g transform='translate(20,10)'><line shape-rendering='crispEdges' stroke='rgb(0,0,0)' stroke-width='1' x1='0' x2='260' y1='270.0' y2='270.0'/><line shape-rendering='crispEdges' stroke='rgb(238,238,238)' stroke-width='1' x1='0' x2='260' y1='231.42857142857144' y2='231.42857142857144'/><line shape-rendering='crispEdges' stroke='rgb(238,238,238)' stroke-width='1' x1='0' x2='260' y1='192.85714285714286' y2='192.85714285714286'/><line shape-rendering='crispEdges' stroke='rgb(238,238,238)' stroke-width='1' x1='0' x2='260' y1='154.28571428571428' y2='154.28571428571428'/><line shape-rendering='crispEdges' stroke='rgb(238,238,238)' stroke-width='1' x1='0' x2='260' y1='115.71428571428572' y2='115.71428571428572'/><line shape-rendering='crispEdges' stroke='rgb(238,238,238)' stroke-width='1' x1='0' x2='260' y1='77.14285714285714' y2='77.14285714285714'/><line shape-rendering='crispEdges' stroke='rgb(238,238,238)' stroke-width='1' x1='0' x2='260' y1='38.571428571428584' y2='38.571428571428584'/><line shape-rendering='crispEdges' stroke='rgb(238,238,238)' stroke-width='1' x1='0' x2='260' y1='0.0' y2='0.0'/></g><g transform='translate(20,10)'><text dy='.35em' fill='rgb(0,0,0)' pointer-events='none' text-anchor='end' transform='translate(0,270.0)' x='-3'>0</text><text dy='.35em' fill='rgb(0,0,0)' pointer-events='none' text-anchor='end' transform='translate(0,231.42857142857144)' x='-3'>10</text><text dy='.35em' fill='rgb(0,0,0)' pointer-events='none' text-anchor='end' transform='translate(0,192.85714285714286)' x='-3'>20</text><text dy='.35em' fill='rgb(0,0,0)' pointer-events='none' text-anchor='end' transform='translate(0,154.28571428571428)' x='-3'>30</text><text dy='.35em' fill='rgb(0,0,0)' pointer-events='none' text-anchor='end' transform='translate(0,115.71428571428572)' x='-3'>40</text><text dy='.35em' fill='rgb(0,0,0)' pointer-events='none' text-anchor='end' transform='translate(0,77.14285714285714)' x='-3'>50</text><text dy='.35em' fill='rgb(0,0,0)' pointer-events='none' text-anchor='end' transform='translate(0,38.571428571428584)' x='-3'>60</text><text dy='.35em' fill='rgb(0,0,0)' pointer-events='none' text-anchor='end' transform='translate(0,0.0)' x='-3'>70</text></g><g transform='translate(20,10)'><line shape-rendering='crispEdges' stroke='rgb(0,0,0)' stroke-width='1' x1='0' x2='260' y1='270' y2='270'/></g><g transform='translate(20,10)'/><g transform='translate(20,10)'><g transform='translate(16.249999999999996,0)'><rect fill='rgb(31,119,180)' height='50.72309759594697' stroke='rgb(21,83,125)' stroke-width='1.0' width='65.0' y='46.955009464668336'/></g><g transform='translate(16.249999999999996,0)'><line shape-rendering='crispEdges' stroke='rgb(0,0,0)' stroke-width='2' x1='0.0' x2='65.0' y1='84.04659451574648' y2='84.04659451574648'/></g><g transform='translate(16.249999999999996,0)'><line shape-rendering='crispEdges' stroke='rgb(0,0,0)' stroke-width='1' x1='0' x2='65.0' y1='120.34606554779847' y2='120.34606554779847'/></g><g transform='translate(16.249999999999996,0)'><line shape-rendering='crispEdges' stroke='rgb(0,0,0)' stroke-width='1' x1='32.5' x2='32.5' y1='97.6781070606153' y2='120.34606554779847'/></g><g transform='translate(16.249999999999996,0)'><line shape-rendering='crispEdges' stroke='rgb(0,0,0)' stroke-width='1' x1='0' x2='65.0' y1='3.314523277496619' y2='3.314523277496619'/></g><g transform='translate(16.249999999999996,0)'><line shape-rendering='crispEdges' stroke='rgb(0,0,0)' stroke-width='1' x1='32.5' x2='32.5' y1='3.314523277496619' y2='46.955009464668336'/></g><g transform='translate(16.249999999999996,0)'><a xlink:title='30.618772148493367'><circle cx='32.5' cy='151.89902171295415' fill='none' r='2.0' stroke='rgb(31,119,180)'/></a><a xlink:title='2'><circle cx='32.5' cy='262.2857142857143' fill='none' r='2.0' stroke='rgb(31,119,180)'/></a></g><g transform='translate(97.5,0)'><rect fill='rgb(31,119,180)' height='24.91143125074865' stroke='rgb(21,83,125)' stroke-width='1.0' width='65.0' y='148.09593697959446'/></g><g transform='translate(97.5,0)'><line shape-rendering='crispEdges' stroke='rgb(0,0,0)' stroke-width='2' x1='0.0' x2='65.0' y1='160.2231500487069' y2='160.2231500487069'/></g><g transform='translate(97.5,0)'><line shape-rendering='crispEdges' stroke='rgb(0,0,0)' stroke-width='1' x1='0' x2='65.0' y1='193.75351983464964' y2='193.75351983464964'/></g><g transform='translate(97.5,0)'><line shape-rendering='crispEdges' stroke='rgb(0,0,0)' stroke-width='1' x1='32.5' x2='32.5' y1='173.0073682303431' y2='193.75351983464964'/></g><g transform='translate(97.5,0)'><line shape-rendering='crispEdges' stroke='rgb(0,0,0)' stroke-width='1' x1='0' x2='65.0' y1='139.20942822672433' y2='139.20942822672433'/></g><g transform='translate(97.5,0)'><line shape-rendering='crispEdges' stroke='rgb(0,0,0)' stroke-width='1' x1='32.5' x2='32.5' y1='139.20942822672436' y2='148.09593697959448'/></g><g transform='translate(97.5,0)'><a xlink:title='43.27542047180245'><circle cx='32.5' cy='103.08052103733343' fill='none' r='2.0' stroke='rgb(255,127,14)'/></a></g><g transform='translate(178.75,0)'><rect fill='rgb(255,127,14)' height='5.36610583385659' stroke='rgb(178,88,9)' stroke-width='1.0' width='65.0' y='247.5206842961231'/></g><g transform='translate(178.75,0)'><line shape-rendering='crispEdges' stroke='rgb(0,0,0)' stroke-width='2' x1='0.0' x2='65.0' y1='250.23325417157636' y2='250.23325417157636'/></g><g transform='translate(178.75,0)'><line shape-rendering='crispEdges' stroke='rgb(0,0,0)' stroke-width='1' x1='0' x2='65.0' y1='257.3780272088996' y2='257.3780272088996'/></g><g transform='translate(178.75,0)'><line shape-rendering='crispEdges' stroke='rgb(0,0,0)' stroke-width='1' x1='32.5' x2='32.5' y1='252.88679012997966' y2='257.3780272088996'/></g><g transform='translate(178.75,0)'><line shape-rendering='crispEdges' stroke='rgb(0,0,0)' stroke-width='1' x1='0' x2='65.0' y1='244.66647399068165' y2='244.66647399068165'/></g><g transform='translate(178.75,0)'><line shape-rendering='crispEdges' stroke='rgb(0,0,0)' stroke-width='1' x1='32.5' x2='32.5' y1='244.66647399068165' y2='247.52068429612308'/></g><g transform='translate(178.75,0)'><a xlink:title='7.312084261776322'><circle cx='32.5' cy='241.79624641886275' fill='none' r='2.0' stroke='rgb(44,160,44)'/></a><a xlink:title='7.34441008649586'><circle cx='32.5' cy='241.67156109494454' fill='none' r='2.0' stroke='rgb(44,160,44)'/></a></g></g></svg>"
      ],
      "text/plain": [
       "\"<svg fill='none' font-family='sans-serif' font-size='10px' height='300' stroke='none' stroke-width='1.5' width='300' xmlns:xlink='http://www.w3.org/1999/xlink' xmlns='http://www.w3.org/2000/svg'><g transform='translate(20,10)'><line shape-rendering='crispEdges' stroke='rgb(0,0,0)' stroke-width='1' x1='0' x2='260' y1='270.0' y2='270.0'/><line shape-rendering='crispEdges' stroke='rgb(238,238,238)' stroke-width='1' x1='0' x2='260' y1='231.42857142857144' y2='231.42857142857144'/><line shape-rendering='crispEdges' stroke='rgb(238,238,238)' stroke-width='1' x1='0' x2='260' y1='192.85714285714286' y2='192.85714285714286'/><line shape-rendering='crispEdges' stroke='rgb(238,238,238)' stroke-width='1' x1='0' x2='260' y1='154.28571428571428' y2='154.28571428571428'/><line shape-rendering='crispEdges' stroke='rgb(238,238,238)' stroke-width='1' x1='0' x2='260' y1='115.71428571428572' y2='115.71428571428572'/><line shape-rendering='crispEdges' stroke='rgb(238,238,238)' stroke-width='1' x1='0' x2='260' y1='77.14285714285714' y2='77.14285714285714'/><line shape-rendering='crispEdges' stroke='rgb(238,238,238)' stroke-width='1' x1='0' x2='260' y1='38.571428571428584' y2='38.571428571428584'/><line shape-rendering='crispEdges' stroke='rgb(238,238,238)' stroke-width='1' x1='0' x2='260' y1='0.0' y2='0.0'/></g><g transform='translate(20,10)'><text dy='.35em' fill='rgb(0,0,0)' pointer-events='none' text-anchor='end' transform='translate(0,270.0)' x='-3'>0</text><text dy='.35em' fill='rgb(0,0,0)' pointer-events='none' text-anchor='end' transform='translate(0,231.42857142857144)' x='-3'>10</text><text dy='.35em' fill='rgb(0,0,0)' pointer-events='none' text-anchor='end' transform='translate(0,192.85714285714286)' x='-3'>20</text><text dy='.35em' fill='rgb(0,0,0)' pointer-events='none' text-anchor='end' transform='translate(0,154.28571428571428)' x='-3'>30</text><text dy='.35em' fill='rgb(0,0,0)' pointer-events='none' text-anchor='end' transform='translate(0,115.71428571428572)' x='-3'>40</text><text dy='.35em' fill='rgb(0,0,0)' pointer-events='none' text-anchor='end' transform='translate(0,77.14285714285714)' x='-3'>50</text><text dy='.35em' fill='rgb(0,0,0)' pointer-events='none' text-anchor='end' transform='translate(0,38.571428571428584)' x='-3'>60</text><text dy='.35em' fill='rgb(0,0,0)' pointer-events='none' text-anchor='end' transform='translate(0,0.0)' x='-3'>70</text></g><g transform='translate(20,10)'><line shape-rendering='crispEdges' stroke='rgb(0,0,0)' stroke-width='1' x1='0' x2='260' y1='270' y2='270'/></g><g transform='translate(20,10)'/><g transform='translate(20,10)'><g transform='translate(16.249999999999996,0)'><rect fill='rgb(31,119,180)' height='50.72309759594697' stroke='rgb(21,83,125)' stroke-width='1.0' width='65.0' y='46.955009464668336'/></g><g transform='translate(16.249999999999996,0)'><line shape-rendering='crispEdges' stroke='rgb(0,0,0)' stroke-width='2' x1='0.0' x2='65.0' y1='84.04659451574648' y2='84.04659451574648'/></g><g transform='translate(16.249999999999996,0)'><line shape-rendering='crispEdges' stroke='rgb(0,0,0)' stroke-width='1' x1='0' x2='65.0' y1='120.34606554779847' y2='120.34606554779847'/></g><g transform='translate(16.249999999999996,0)'><line shape-rendering='crispEdges' stroke='rgb(0,0,0)' stroke-width='1' x1='32.5' x2='32.5' y1='97.6781070606153' y2='120.34606554779847'/></g><g transform='translate(16.249999999999996,0)'><line shape-rendering='crispEdges' stroke='rgb(0,0,0)' stroke-width='1' x1='0' x2='65.0' y1='3.314523277496619' y2='3.314523277496619'/></g><g transform='translate(16.249999999999996,0)'><line shape-rendering='crispEdges' stroke='rgb(0,0,0)' stroke-width='1' x1='32.5' x2='32.5' y1='3.314523277496619' y2='46.955009464668336'/></g><g transform='translate(16.249999999999996,0)'><a xlink:title='30.618772148493367'><circle cx='32.5' cy='151.89902171295415' fill='none' r='2.0' stroke='rgb(31,119,180)'/></a><a xlink:title='2'><circle cx='32.5' cy='262.2857142857143' fill='none' r='2.0' stroke='rgb(31,119,180)'/></a></g><g transform='translate(97.5,0)'><rect fill='rgb(31,119,180)' height='24.91143125074865' stroke='rgb(21,83,125)' stroke-width='1.0' width='65.0' y='148.09593697959446'/></g><g transform='translate(97.5,0)'><line shape-rendering='crispEdges' stroke='rgb(0,0,0)' stroke-width='2' x1='0.0' x2='65.0' y1='160.2231500487069' y2='160.2231500487069'/></g><g transform='translate(97.5,0)'><line shape-rendering='crispEdges' stroke='rgb(0,0,0)' stroke-width='1' x1='0' x2='65.0' y1='193.75351983464964' y2='193.75351983464964'/></g><g transform='translate(97.5,0)'><line shape-rendering='crispEdges' stroke='rgb(0,0,0)' stroke-width='1' x1='32.5' x2='32.5' y1='173.0073682303431' y2='193.75351983464964'/></g><g transform='translate(97.5,0)'><line shape-rendering='crispEdges' stroke='rgb(0,0,0)' stroke-width='1' x1='0' x2='65.0' y1='139.20942822672433' y2='139.20942822672433'/></g><g transform='translate(97.5,0)'><line shape-rendering='crispEdges' stroke='rgb(0,0,0)' stroke-width='1' x1='32.5' x2='32.5' y1='139.20942822672436' y2='148.09593697959448'/></g><g transform='translate(97.5,0)'><a xlink:title='43.27542047180245'><circle cx='32.5' cy='103.08052103733343' fill='none' r='2.0' stroke='rgb(255,127,14)'/></a></g><g transform='translate(178.75,0)'><rect fill='rgb(255,127,14)' height='5.36610583385659' stroke='rgb(178,88,9)' stroke-width='1.0' width='65.0' y='247.5206842961231'/></g><g transform='translate(178.75,0)'><line shape-rendering='crispEdges' stroke='rgb(0,0,0)' stroke-width='2' x1='0.0' x2='65.0' y1='250.23325417157636' y2='250.23325417157636'/></g><g transform='translate(178.75,0)'><line shape-rendering='crispEdges' stroke='rgb(0,0,0)' stroke-width='1' x1='0' x2='65.0' y1='257.3780272088996' y2='257.3780272088996'/></g><g transform='translate(178.75,0)'><line shape-rendering='crispEdges' stroke='rgb(0,0,0)' stroke-width='1' x1='32.5' x2='32.5' y1='252.88679012997966' y2='257.3780272088996'/></g><g transform='translate(178.75,0)'><line shape-rendering='crispEdges' stroke='rgb(0,0,0)' stroke-width='1' x1='0' x2='65.0' y1='244.66647399068165' y2='244.66647399068165'/></g><g transform='translate(178.75,0)'><line shape-rendering='crispEdges' stroke='rgb(0,0,0)' stroke-width='1' x1='32.5' x2='32.5' y1='244.66647399068165' y2='247.52068429612308'/></g><g transform='translate(178.75,0)'><a xlink:title='7.312084261776322'><circle cx='32.5' cy='241.79624641886275' fill='none' r='2.0' stroke='rgb(44,160,44)'/></a><a xlink:title='7.34441008649586'><circle cx='32.5' cy='241.67156109494454' fill='none' r='2.0' stroke='rgb(44,160,44)'/></a></g></g></svg>\""
      ]
     },
     "execution_count": 4,
     "metadata": {},
     "output_type": "execute_result"
    }
   ],
   "source": [
    "IRuby.svg boxplot(:vectors=>[a,b,c],:width=>300, :height=>300, :groups=>%w{first first second}, :minimum=>0).to_svg"
   ]
  },
  {
   "cell_type": "markdown",
   "metadata": {},
   "source": [
    "IRuby.svg boxplot(:vectors=>[a,b,c],:width=>300, :height=>300, :groups=>%w{first first second}, :minimum=>0).to_svg"
   ]
  }
 ],
 "metadata": {
  "kernelspec": {
   "display_name": "Ruby 2.2.1",
   "language": "ruby",
   "name": "ruby"
  },
  "language_info": {
   "file_extension": "rb",
   "mimetype": "application/x-ruby",
   "name": "ruby",
   "version": "2.2.1"
  }
 },
 "nbformat": 4,
 "nbformat_minor": 0
}
